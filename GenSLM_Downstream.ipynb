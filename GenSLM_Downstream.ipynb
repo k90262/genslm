{
 "cells": [
  {
   "cell_type": "markdown",
   "metadata": {
    "id": "jFJQeb_qraNB"
   },
   "source": [
    "# Background\n",
    "\n",
    "## DNA Melting Point\n",
    "\n",
    "__Wikipedia:__\n",
    "\n",
    "Nucleic acid thermodynamics is the study of how temperature affects the nucleic acid structure of double-stranded DNA (dsDNA). The melting temperature (Tm) is defined as the temperature at which half of the DNA strands are in the random coil or single-stranded (ssDNA) state. Tm depends on the length of the DNA molecule and its specific nucleotide sequence. DNA, when in a state where its two strands are dissociated (i.e., the dsDNA molecule exists as two independent strands), is referred to as having been denatured by the high temperature.\n",
    "\n",
    "\n",
    "## This notebook\n",
    "\n",
    "In this notebook we will use the GenSLM 25M parameter langauge model to generate embeddings for sequences and use a downstream model to take the embeddings and predict the melting point of the associated sequence. This workflow is common for many bioinformatics tasks, and can easily be adapted to other regression and classification problems."
   ]
  },
  {
   "cell_type": "code",
   "metadata": {
    "colab": {
     "base_uri": "https://localhost:8080/"
    },
    "id": "9W_LPOTOMrMs",
    "outputId": "ceaf1bd2-f13d-4f81-faa3-51c863c563c2",
    "ExecuteTime": {
     "end_time": "2024-08-28T14:54:43.033989Z",
     "start_time": "2024-08-28T14:54:42.946734Z"
    }
   },
   "source": [
    "!python --version"
   ],
   "outputs": [
    {
     "name": "stdout",
     "output_type": "stream",
     "text": [
      "Python 3.10.14\n"
     ]
    }
   ],
   "execution_count": 1
  },
  {
   "cell_type": "code",
   "execution_count": null,
   "metadata": {
    "colab": {
     "base_uri": "https://localhost:8080/"
    },
    "id": "PsDHUoNGU62n",
    "outputId": "16c60af5-3d13-4fd5-ec19-0f226b35657f"
   },
   "outputs": [
    {
     "output_type": "stream",
     "name": "stdout",
     "text": [
      "Collecting git+https://github.com/k90262/genslm\n",
      "  Cloning https://github.com/k90262/genslm to /tmp/pip-req-build-5p80ynbr\n",
      "  Running command git clone --filter=blob:none --quiet https://github.com/k90262/genslm /tmp/pip-req-build-5p80ynbr\n",
      "  Resolved https://github.com/k90262/genslm to commit aed33b2e1492987290559e2f2f7962e0d50aff68\n",
      "  Preparing metadata (setup.py) ... \u001B[?25l\u001B[?25hdone\n",
      "Collecting transformers@ git+https://github.com/maxzvyagin/transformers (from genslm==0.0.4a1)\n",
      "  Cloning https://github.com/maxzvyagin/transformers to /tmp/pip-install-pqcm7yio/transformers_a80ee7b2de0d4d58897f48df84bb2bb0\n",
      "  Running command git clone --filter=blob:none --quiet https://github.com/maxzvyagin/transformers /tmp/pip-install-pqcm7yio/transformers_a80ee7b2de0d4d58897f48df84bb2bb0\n",
      "  Resolved https://github.com/maxzvyagin/transformers to commit ffd5aba0ad41a1ebd1897a77f6a3782fc2d75e1f\n",
      "  Installing build dependencies ... \u001B[?25l\u001B[?25hdone\n",
      "  Getting requirements to build wheel ... \u001B[?25l\u001B[?25hdone\n",
      "  Preparing metadata (pyproject.toml) ... \u001B[?25l\u001B[?25hdone\n",
      "Requirement already satisfied: pytorch-lightning==2.4.0 in /usr/local/lib/python3.10/dist-packages (from genslm==0.0.4a1) (2.4.0)\n",
      "Requirement already satisfied: wandb in /usr/local/lib/python3.10/dist-packages (from genslm==0.0.4a1) (0.17.7)\n",
      "Requirement already satisfied: pydantic==1.10.2 in /usr/local/lib/python3.10/dist-packages (from genslm==0.0.4a1) (1.10.2)\n",
      "Requirement already satisfied: biopython==1.79 in /usr/local/lib/python3.10/dist-packages (from genslm==0.0.4a1) (1.79)\n",
      "Requirement already satisfied: pandas in /usr/local/lib/python3.10/dist-packages (from genslm==0.0.4a1) (2.1.4)\n",
      "Requirement already satisfied: natsort in /usr/local/lib/python3.10/dist-packages (from genslm==0.0.4a1) (8.4.0)\n",
      "Requirement already satisfied: Jinja2 in /usr/local/lib/python3.10/dist-packages (from genslm==0.0.4a1) (3.1.4)\n",
      "Requirement already satisfied: h5py==3.11.0 in /usr/local/lib/python3.10/dist-packages (from genslm==0.0.4a1) (3.11.0)\n",
      "Requirement already satisfied: lightning-transformers==0.2.1 in /usr/local/lib/python3.10/dist-packages (from genslm==0.0.4a1) (0.2.1)\n",
      "Requirement already satisfied: numpy in /usr/local/lib/python3.10/dist-packages (from biopython==1.79->genslm==0.0.4a1) (1.26.4)\n",
      "Requirement already satisfied: torch>=1.10.0 in /usr/local/lib/python3.10/dist-packages (from lightning-transformers==0.2.1->genslm==0.0.4a1) (2.3.1+cu121)\n",
      "Requirement already satisfied: tqdm in /usr/local/lib/python3.10/dist-packages (from lightning-transformers==0.2.1->genslm==0.0.4a1) (4.66.5)\n",
      "Requirement already satisfied: torchmetrics>=0.7.0 in /usr/local/lib/python3.10/dist-packages (from lightning-transformers==0.2.1->genslm==0.0.4a1) (1.4.1)\n",
      "Requirement already satisfied: datasets in /usr/local/lib/python3.10/dist-packages (from lightning-transformers==0.2.1->genslm==0.0.4a1) (2.21.0)\n",
      "Requirement already satisfied: sentencepiece in /usr/local/lib/python3.10/dist-packages (from lightning-transformers==0.2.1->genslm==0.0.4a1) (0.2.0)\n",
      "Requirement already satisfied: Pillow in /usr/local/lib/python3.10/dist-packages (from lightning-transformers==0.2.1->genslm==0.0.4a1) (9.4.0)\n",
      "Requirement already satisfied: protobuf==3.20.1 in /usr/local/lib/python3.10/dist-packages (from lightning-transformers==0.2.1->genslm==0.0.4a1) (3.20.1)\n",
      "Requirement already satisfied: typing-extensions>=4.1.0 in /usr/local/lib/python3.10/dist-packages (from pydantic==1.10.2->genslm==0.0.4a1) (4.12.2)\n",
      "Requirement already satisfied: PyYAML>=5.4 in /usr/local/lib/python3.10/dist-packages (from pytorch-lightning==2.4.0->genslm==0.0.4a1) (6.0.2)\n",
      "Requirement already satisfied: fsspec>=2022.5.0 in /usr/local/lib/python3.10/dist-packages (from fsspec[http]>=2022.5.0->pytorch-lightning==2.4.0->genslm==0.0.4a1) (2024.6.1)\n",
      "Requirement already satisfied: packaging>=20.0 in /usr/local/lib/python3.10/dist-packages (from pytorch-lightning==2.4.0->genslm==0.0.4a1) (24.1)\n",
      "Requirement already satisfied: lightning-utilities>=0.10.0 in /usr/local/lib/python3.10/dist-packages (from pytorch-lightning==2.4.0->genslm==0.0.4a1) (0.11.6)\n",
      "Requirement already satisfied: filelock in /usr/local/lib/python3.10/dist-packages (from transformers@ git+https://github.com/maxzvyagin/transformers->genslm==0.0.4a1) (3.15.4)\n",
      "Requirement already satisfied: huggingface-hub<1.0,>=0.1.0 in /usr/local/lib/python3.10/dist-packages (from transformers@ git+https://github.com/maxzvyagin/transformers->genslm==0.0.4a1) (0.23.5)\n",
      "Requirement already satisfied: regex!=2019.12.17 in /usr/local/lib/python3.10/dist-packages (from transformers@ git+https://github.com/maxzvyagin/transformers->genslm==0.0.4a1) (2024.5.15)\n",
      "Requirement already satisfied: requests in /usr/local/lib/python3.10/dist-packages (from transformers@ git+https://github.com/maxzvyagin/transformers->genslm==0.0.4a1) (2.32.3)\n",
      "Requirement already satisfied: tokenizers!=0.11.3,<0.13,>=0.11.1 in /usr/local/lib/python3.10/dist-packages (from transformers@ git+https://github.com/maxzvyagin/transformers->genslm==0.0.4a1) (0.12.1)\n",
      "Requirement already satisfied: MarkupSafe>=2.0 in /usr/local/lib/python3.10/dist-packages (from Jinja2->genslm==0.0.4a1) (2.1.5)\n",
      "Requirement already satisfied: python-dateutil>=2.8.2 in /usr/local/lib/python3.10/dist-packages (from pandas->genslm==0.0.4a1) (2.8.2)\n",
      "Requirement already satisfied: pytz>=2020.1 in /usr/local/lib/python3.10/dist-packages (from pandas->genslm==0.0.4a1) (2024.1)\n",
      "Requirement already satisfied: tzdata>=2022.1 in /usr/local/lib/python3.10/dist-packages (from pandas->genslm==0.0.4a1) (2024.1)\n",
      "Requirement already satisfied: click!=8.0.0,>=7.1 in /usr/local/lib/python3.10/dist-packages (from wandb->genslm==0.0.4a1) (8.1.7)\n",
      "Requirement already satisfied: docker-pycreds>=0.4.0 in /usr/local/lib/python3.10/dist-packages (from wandb->genslm==0.0.4a1) (0.4.0)\n",
      "Requirement already satisfied: gitpython!=3.1.29,>=1.0.0 in /usr/local/lib/python3.10/dist-packages (from wandb->genslm==0.0.4a1) (3.1.43)\n",
      "Requirement already satisfied: platformdirs in /usr/local/lib/python3.10/dist-packages (from wandb->genslm==0.0.4a1) (4.2.2)\n",
      "Requirement already satisfied: psutil>=5.0.0 in /usr/local/lib/python3.10/dist-packages (from wandb->genslm==0.0.4a1) (5.9.5)\n",
      "Requirement already satisfied: sentry-sdk>=1.0.0 in /usr/local/lib/python3.10/dist-packages (from wandb->genslm==0.0.4a1) (2.13.0)\n",
      "Requirement already satisfied: setproctitle in /usr/local/lib/python3.10/dist-packages (from wandb->genslm==0.0.4a1) (1.3.3)\n",
      "Requirement already satisfied: setuptools in /usr/local/lib/python3.10/dist-packages (from wandb->genslm==0.0.4a1) (71.0.4)\n",
      "Requirement already satisfied: six>=1.4.0 in /usr/local/lib/python3.10/dist-packages (from docker-pycreds>=0.4.0->wandb->genslm==0.0.4a1) (1.16.0)\n",
      "Requirement already satisfied: aiohttp!=4.0.0a0,!=4.0.0a1 in /usr/local/lib/python3.10/dist-packages (from fsspec[http]>=2022.5.0->pytorch-lightning==2.4.0->genslm==0.0.4a1) (3.10.3)\n",
      "Requirement already satisfied: gitdb<5,>=4.0.1 in /usr/local/lib/python3.10/dist-packages (from gitpython!=3.1.29,>=1.0.0->wandb->genslm==0.0.4a1) (4.0.11)\n",
      "Requirement already satisfied: charset-normalizer<4,>=2 in /usr/local/lib/python3.10/dist-packages (from requests->transformers@ git+https://github.com/maxzvyagin/transformers->genslm==0.0.4a1) (3.3.2)\n",
      "Requirement already satisfied: idna<4,>=2.5 in /usr/local/lib/python3.10/dist-packages (from requests->transformers@ git+https://github.com/maxzvyagin/transformers->genslm==0.0.4a1) (3.7)\n",
      "Requirement already satisfied: urllib3<3,>=1.21.1 in /usr/local/lib/python3.10/dist-packages (from requests->transformers@ git+https://github.com/maxzvyagin/transformers->genslm==0.0.4a1) (2.0.7)\n",
      "Requirement already satisfied: certifi>=2017.4.17 in /usr/local/lib/python3.10/dist-packages (from requests->transformers@ git+https://github.com/maxzvyagin/transformers->genslm==0.0.4a1) (2024.7.4)\n",
      "Requirement already satisfied: sympy in /usr/local/lib/python3.10/dist-packages (from torch>=1.10.0->lightning-transformers==0.2.1->genslm==0.0.4a1) (1.13.2)\n",
      "Requirement already satisfied: networkx in /usr/local/lib/python3.10/dist-packages (from torch>=1.10.0->lightning-transformers==0.2.1->genslm==0.0.4a1) (3.3)\n",
      "Requirement already satisfied: nvidia-cuda-nvrtc-cu12==12.1.105 in /usr/local/lib/python3.10/dist-packages (from torch>=1.10.0->lightning-transformers==0.2.1->genslm==0.0.4a1) (12.1.105)\n",
      "Requirement already satisfied: nvidia-cuda-runtime-cu12==12.1.105 in /usr/local/lib/python3.10/dist-packages (from torch>=1.10.0->lightning-transformers==0.2.1->genslm==0.0.4a1) (12.1.105)\n",
      "Requirement already satisfied: nvidia-cuda-cupti-cu12==12.1.105 in /usr/local/lib/python3.10/dist-packages (from torch>=1.10.0->lightning-transformers==0.2.1->genslm==0.0.4a1) (12.1.105)\n",
      "Requirement already satisfied: nvidia-cudnn-cu12==8.9.2.26 in /usr/local/lib/python3.10/dist-packages (from torch>=1.10.0->lightning-transformers==0.2.1->genslm==0.0.4a1) (8.9.2.26)\n",
      "Requirement already satisfied: nvidia-cublas-cu12==12.1.3.1 in /usr/local/lib/python3.10/dist-packages (from torch>=1.10.0->lightning-transformers==0.2.1->genslm==0.0.4a1) (12.1.3.1)\n",
      "Requirement already satisfied: nvidia-cufft-cu12==11.0.2.54 in /usr/local/lib/python3.10/dist-packages (from torch>=1.10.0->lightning-transformers==0.2.1->genslm==0.0.4a1) (11.0.2.54)\n",
      "Requirement already satisfied: nvidia-curand-cu12==10.3.2.106 in /usr/local/lib/python3.10/dist-packages (from torch>=1.10.0->lightning-transformers==0.2.1->genslm==0.0.4a1) (10.3.2.106)\n",
      "Requirement already satisfied: nvidia-cusolver-cu12==11.4.5.107 in /usr/local/lib/python3.10/dist-packages (from torch>=1.10.0->lightning-transformers==0.2.1->genslm==0.0.4a1) (11.4.5.107)\n",
      "Requirement already satisfied: nvidia-cusparse-cu12==12.1.0.106 in /usr/local/lib/python3.10/dist-packages (from torch>=1.10.0->lightning-transformers==0.2.1->genslm==0.0.4a1) (12.1.0.106)\n",
      "Requirement already satisfied: nvidia-nccl-cu12==2.20.5 in /usr/local/lib/python3.10/dist-packages (from torch>=1.10.0->lightning-transformers==0.2.1->genslm==0.0.4a1) (2.20.5)\n",
      "Requirement already satisfied: nvidia-nvtx-cu12==12.1.105 in /usr/local/lib/python3.10/dist-packages (from torch>=1.10.0->lightning-transformers==0.2.1->genslm==0.0.4a1) (12.1.105)\n",
      "Requirement already satisfied: triton==2.3.1 in /usr/local/lib/python3.10/dist-packages (from torch>=1.10.0->lightning-transformers==0.2.1->genslm==0.0.4a1) (2.3.1)\n",
      "Requirement already satisfied: nvidia-nvjitlink-cu12 in /usr/local/lib/python3.10/dist-packages (from nvidia-cusolver-cu12==11.4.5.107->torch>=1.10.0->lightning-transformers==0.2.1->genslm==0.0.4a1) (12.6.20)\n",
      "Requirement already satisfied: pyarrow>=15.0.0 in /usr/local/lib/python3.10/dist-packages (from datasets->lightning-transformers==0.2.1->genslm==0.0.4a1) (17.0.0)\n",
      "Requirement already satisfied: dill<0.3.9,>=0.3.0 in /usr/local/lib/python3.10/dist-packages (from datasets->lightning-transformers==0.2.1->genslm==0.0.4a1) (0.3.8)\n",
      "Requirement already satisfied: xxhash in /usr/local/lib/python3.10/dist-packages (from datasets->lightning-transformers==0.2.1->genslm==0.0.4a1) (3.5.0)\n",
      "Requirement already satisfied: multiprocess in /usr/local/lib/python3.10/dist-packages (from datasets->lightning-transformers==0.2.1->genslm==0.0.4a1) (0.70.16)\n",
      "Requirement already satisfied: nltk>=3.6 in /usr/local/lib/python3.10/dist-packages (from torchmetrics[text]->lightning-transformers==0.2.1->genslm==0.0.4a1) (3.8.1)\n",
      "Requirement already satisfied: mecab-python3>=1.0.6 in /usr/local/lib/python3.10/dist-packages (from torchmetrics[text]->lightning-transformers==0.2.1->genslm==0.0.4a1) (1.0.9)\n",
      "Requirement already satisfied: ipadic>=1.0.0 in /usr/local/lib/python3.10/dist-packages (from torchmetrics[text]->lightning-transformers==0.2.1->genslm==0.0.4a1) (1.0.0)\n",
      "Requirement already satisfied: aiohappyeyeballs>=2.3.0 in /usr/local/lib/python3.10/dist-packages (from aiohttp!=4.0.0a0,!=4.0.0a1->fsspec[http]>=2022.5.0->pytorch-lightning==2.4.0->genslm==0.0.4a1) (2.3.5)\n",
      "Requirement already satisfied: aiosignal>=1.1.2 in /usr/local/lib/python3.10/dist-packages (from aiohttp!=4.0.0a0,!=4.0.0a1->fsspec[http]>=2022.5.0->pytorch-lightning==2.4.0->genslm==0.0.4a1) (1.3.1)\n",
      "Requirement already satisfied: attrs>=17.3.0 in /usr/local/lib/python3.10/dist-packages (from aiohttp!=4.0.0a0,!=4.0.0a1->fsspec[http]>=2022.5.0->pytorch-lightning==2.4.0->genslm==0.0.4a1) (24.2.0)\n",
      "Requirement already satisfied: frozenlist>=1.1.1 in /usr/local/lib/python3.10/dist-packages (from aiohttp!=4.0.0a0,!=4.0.0a1->fsspec[http]>=2022.5.0->pytorch-lightning==2.4.0->genslm==0.0.4a1) (1.4.1)\n",
      "Requirement already satisfied: multidict<7.0,>=4.5 in /usr/local/lib/python3.10/dist-packages (from aiohttp!=4.0.0a0,!=4.0.0a1->fsspec[http]>=2022.5.0->pytorch-lightning==2.4.0->genslm==0.0.4a1) (6.0.5)\n",
      "Requirement already satisfied: yarl<2.0,>=1.0 in /usr/local/lib/python3.10/dist-packages (from aiohttp!=4.0.0a0,!=4.0.0a1->fsspec[http]>=2022.5.0->pytorch-lightning==2.4.0->genslm==0.0.4a1) (1.9.4)\n",
      "Requirement already satisfied: async-timeout<5.0,>=4.0 in /usr/local/lib/python3.10/dist-packages (from aiohttp!=4.0.0a0,!=4.0.0a1->fsspec[http]>=2022.5.0->pytorch-lightning==2.4.0->genslm==0.0.4a1) (4.0.3)\n",
      "Requirement already satisfied: smmap<6,>=3.0.1 in /usr/local/lib/python3.10/dist-packages (from gitdb<5,>=4.0.1->gitpython!=3.1.29,>=1.0.0->wandb->genslm==0.0.4a1) (5.0.1)\n",
      "Requirement already satisfied: joblib in /usr/local/lib/python3.10/dist-packages (from nltk>=3.6->torchmetrics[text]->lightning-transformers==0.2.1->genslm==0.0.4a1) (1.4.2)\n",
      "Requirement already satisfied: mpmath<1.4,>=1.1.0 in /usr/local/lib/python3.10/dist-packages (from sympy->torch>=1.10.0->lightning-transformers==0.2.1->genslm==0.0.4a1) (1.3.0)\n"
     ]
    }
   ],
   "source": [
    "# Installing GenSLM\n",
    "# NOTE: You may need to run this twice due env reload\n",
    "!pip install git+https://github.com/k90262/genslm"
   ]
  },
  {
   "cell_type": "code",
   "execution_count": null,
   "metadata": {
    "id": "2Y9RyjnkdsUY"
   },
   "outputs": [],
   "source": [
    "# Note 1: (not sure) re-install `pip install numpy==1.26.3` once facing any numpy array issues\n",
    "# Note 2: we can run below command cell one by one via iPython (not must need on JupterServer)\n",
    "import torch\n",
    "import numpy as np\n",
    "import pandas as pd\n",
    "from tqdm import tqdm\n",
    "from sklearn import svm\n",
    "#from google.colab import drive\n",
    "from torch.utils.data import DataLoader\n",
    "from sklearn.model_selection import train_test_split\n",
    "\n",
    "from genslm import GenSLM, SequenceDataset"
   ]
  },
  {
   "cell_type": "markdown",
   "metadata": {
    "id": "WNXGN5fTV65k"
   },
   "source": [
    "# Aquiring Model and Data\n",
    "\n",
    "Visit: https://drive.google.com/drive/folders/1oYgda4Px-tugapgE2uumiUIf2p3PqIQI?usp=drive_link\n",
    "\n",
    "- Right click `UmichSciFM-2024` Folder and click Organize -> Add Shortcut -> All Locations -> My Drive\n",
    "\n",
    "Executing the cell below mounts your Google Drive to this notebook giving you access to the model checkpoint and data for this notebook"
   ]
  },
  {
   "cell_type": "code",
   "metadata": {
    "colab": {
     "base_uri": "https://localhost:8080/"
    },
    "id": "17wF__wFLl9_",
    "outputId": "737501e1-87a2-4263-d8aa-52aebd420b36",
    "ExecuteTime": {
     "end_time": "2024-08-28T14:05:21.216992Z",
     "start_time": "2024-08-28T14:05:21.154474Z"
    }
   },
   "source": [
    "# Mount and see file structure\n",
    "#drive.mount(\"/content/drive\")\n",
    "\n",
    "!ls ../UMichSciFM-2024/"
   ],
   "outputs": [
    {
     "name": "stderr",
     "output_type": "stream",
     "text": [
      "'ls' is not recognized as an internal or external command,\n",
      "operable program or batch file.\n"
     ]
    }
   ],
   "execution_count": 1
  },
  {
   "cell_type": "code",
   "execution_count": null,
   "metadata": {
    "colab": {
     "base_uri": "https://localhost:8080/",
     "height": 424
    },
    "id": "8gGfdw6Ya3SN",
    "outputId": "99e4b0c5-57b9-4f6b-a9c6-1a995df7c01d"
   },
   "outputs": [
    {
     "output_type": "execute_result",
     "data": {
      "text/plain": [
       "                                               Sequence  MeltingPoint\n",
       "0     atgattatttccgcagccagcgattatcgcgccgcagcacaacgca...     82.112491\n",
       "1     atggctaagctgaccaagcgcatgcgcgtgatccgtgacaaagttg...     80.338892\n",
       "2     atgtttaaaaataaaatgatgatttgtctttatatgtttctattat...     76.102904\n",
       "3     atgggtcgactggaaggaaaggtagcgatcgtcacgggcggtgcgc...     86.743695\n",
       "4     atgcgtctaaaccccggccaacaacaagctgtcgaattcgttaccg...     81.709235\n",
       "...                                                 ...           ...\n",
       "9411  gtggatatgagtaatacaagtgcagcaccacgtgacacgtgggggt...     78.878742\n",
       "9412  ttggttgagcgccacgacatcgcaaccggtgccaccgggcgtaacc...     82.666703\n",
       "9413  atgttccgttcgcttcttcgcctgtctgcagcgttgctggccttga...     85.151774\n",
       "9414  gtgaaattactagatttattgtcaaaaggaattgtaataggtgatg...     75.071559\n",
       "9415  gtggaaatgtcacaactttcaccacgccgtccgtatctgctgcgcg...     81.473411\n",
       "\n",
       "[9416 rows x 2 columns]"
      ],
      "text/html": [
       "\n",
       "  <div id=\"df-f24b1dbe-3718-48c8-824a-e29363815852\" class=\"colab-df-container\">\n",
       "    <div>\n",
       "<style scoped>\n",
       "    .dataframe tbody tr th:only-of-type {\n",
       "        vertical-align: middle;\n",
       "    }\n",
       "\n",
       "    .dataframe tbody tr th {\n",
       "        vertical-align: top;\n",
       "    }\n",
       "\n",
       "    .dataframe thead th {\n",
       "        text-align: right;\n",
       "    }\n",
       "</style>\n",
       "<table border=\"1\" class=\"dataframe\">\n",
       "  <thead>\n",
       "    <tr style=\"text-align: right;\">\n",
       "      <th></th>\n",
       "      <th>Sequence</th>\n",
       "      <th>MeltingPoint</th>\n",
       "    </tr>\n",
       "  </thead>\n",
       "  <tbody>\n",
       "    <tr>\n",
       "      <th>0</th>\n",
       "      <td>atgattatttccgcagccagcgattatcgcgccgcagcacaacgca...</td>\n",
       "      <td>82.112491</td>\n",
       "    </tr>\n",
       "    <tr>\n",
       "      <th>1</th>\n",
       "      <td>atggctaagctgaccaagcgcatgcgcgtgatccgtgacaaagttg...</td>\n",
       "      <td>80.338892</td>\n",
       "    </tr>\n",
       "    <tr>\n",
       "      <th>2</th>\n",
       "      <td>atgtttaaaaataaaatgatgatttgtctttatatgtttctattat...</td>\n",
       "      <td>76.102904</td>\n",
       "    </tr>\n",
       "    <tr>\n",
       "      <th>3</th>\n",
       "      <td>atgggtcgactggaaggaaaggtagcgatcgtcacgggcggtgcgc...</td>\n",
       "      <td>86.743695</td>\n",
       "    </tr>\n",
       "    <tr>\n",
       "      <th>4</th>\n",
       "      <td>atgcgtctaaaccccggccaacaacaagctgtcgaattcgttaccg...</td>\n",
       "      <td>81.709235</td>\n",
       "    </tr>\n",
       "    <tr>\n",
       "      <th>...</th>\n",
       "      <td>...</td>\n",
       "      <td>...</td>\n",
       "    </tr>\n",
       "    <tr>\n",
       "      <th>9411</th>\n",
       "      <td>gtggatatgagtaatacaagtgcagcaccacgtgacacgtgggggt...</td>\n",
       "      <td>78.878742</td>\n",
       "    </tr>\n",
       "    <tr>\n",
       "      <th>9412</th>\n",
       "      <td>ttggttgagcgccacgacatcgcaaccggtgccaccgggcgtaacc...</td>\n",
       "      <td>82.666703</td>\n",
       "    </tr>\n",
       "    <tr>\n",
       "      <th>9413</th>\n",
       "      <td>atgttccgttcgcttcttcgcctgtctgcagcgttgctggccttga...</td>\n",
       "      <td>85.151774</td>\n",
       "    </tr>\n",
       "    <tr>\n",
       "      <th>9414</th>\n",
       "      <td>gtgaaattactagatttattgtcaaaaggaattgtaataggtgatg...</td>\n",
       "      <td>75.071559</td>\n",
       "    </tr>\n",
       "    <tr>\n",
       "      <th>9415</th>\n",
       "      <td>gtggaaatgtcacaactttcaccacgccgtccgtatctgctgcgcg...</td>\n",
       "      <td>81.473411</td>\n",
       "    </tr>\n",
       "  </tbody>\n",
       "</table>\n",
       "<p>9416 rows × 2 columns</p>\n",
       "</div>\n",
       "    <div class=\"colab-df-buttons\">\n",
       "\n",
       "  <div class=\"colab-df-container\">\n",
       "    <button class=\"colab-df-convert\" onclick=\"convertToInteractive('df-f24b1dbe-3718-48c8-824a-e29363815852')\"\n",
       "            title=\"Convert this dataframe to an interactive table.\"\n",
       "            style=\"display:none;\">\n",
       "\n",
       "  <svg xmlns=\"http://www.w3.org/2000/svg\" height=\"24px\" viewBox=\"0 -960 960 960\">\n",
       "    <path d=\"M120-120v-720h720v720H120Zm60-500h600v-160H180v160Zm220 220h160v-160H400v160Zm0 220h160v-160H400v160ZM180-400h160v-160H180v160Zm440 0h160v-160H620v160ZM180-180h160v-160H180v160Zm440 0h160v-160H620v160Z\"/>\n",
       "  </svg>\n",
       "    </button>\n",
       "\n",
       "  <style>\n",
       "    .colab-df-container {\n",
       "      display:flex;\n",
       "      gap: 12px;\n",
       "    }\n",
       "\n",
       "    .colab-df-convert {\n",
       "      background-color: #E8F0FE;\n",
       "      border: none;\n",
       "      border-radius: 50%;\n",
       "      cursor: pointer;\n",
       "      display: none;\n",
       "      fill: #1967D2;\n",
       "      height: 32px;\n",
       "      padding: 0 0 0 0;\n",
       "      width: 32px;\n",
       "    }\n",
       "\n",
       "    .colab-df-convert:hover {\n",
       "      background-color: #E2EBFA;\n",
       "      box-shadow: 0px 1px 2px rgba(60, 64, 67, 0.3), 0px 1px 3px 1px rgba(60, 64, 67, 0.15);\n",
       "      fill: #174EA6;\n",
       "    }\n",
       "\n",
       "    .colab-df-buttons div {\n",
       "      margin-bottom: 4px;\n",
       "    }\n",
       "\n",
       "    [theme=dark] .colab-df-convert {\n",
       "      background-color: #3B4455;\n",
       "      fill: #D2E3FC;\n",
       "    }\n",
       "\n",
       "    [theme=dark] .colab-df-convert:hover {\n",
       "      background-color: #434B5C;\n",
       "      box-shadow: 0px 1px 3px 1px rgba(0, 0, 0, 0.15);\n",
       "      filter: drop-shadow(0px 1px 2px rgba(0, 0, 0, 0.3));\n",
       "      fill: #FFFFFF;\n",
       "    }\n",
       "  </style>\n",
       "\n",
       "    <script>\n",
       "      const buttonEl =\n",
       "        document.querySelector('#df-f24b1dbe-3718-48c8-824a-e29363815852 button.colab-df-convert');\n",
       "      buttonEl.style.display =\n",
       "        google.colab.kernel.accessAllowed ? 'block' : 'none';\n",
       "\n",
       "      async function convertToInteractive(key) {\n",
       "        const element = document.querySelector('#df-f24b1dbe-3718-48c8-824a-e29363815852');\n",
       "        const dataTable =\n",
       "          await google.colab.kernel.invokeFunction('convertToInteractive',\n",
       "                                                    [key], {});\n",
       "        if (!dataTable) return;\n",
       "\n",
       "        const docLinkHtml = 'Like what you see? Visit the ' +\n",
       "          '<a target=\"_blank\" href=https://colab.research.google.com/notebooks/data_table.ipynb>data table notebook</a>'\n",
       "          + ' to learn more about interactive tables.';\n",
       "        element.innerHTML = '';\n",
       "        dataTable['output_type'] = 'display_data';\n",
       "        await google.colab.output.renderOutput(dataTable, element);\n",
       "        const docLink = document.createElement('div');\n",
       "        docLink.innerHTML = docLinkHtml;\n",
       "        element.appendChild(docLink);\n",
       "      }\n",
       "    </script>\n",
       "  </div>\n",
       "\n",
       "\n",
       "<div id=\"df-129c5c40-f87c-42ff-852d-3545263162b7\">\n",
       "  <button class=\"colab-df-quickchart\" onclick=\"quickchart('df-129c5c40-f87c-42ff-852d-3545263162b7')\"\n",
       "            title=\"Suggest charts\"\n",
       "            style=\"display:none;\">\n",
       "\n",
       "<svg xmlns=\"http://www.w3.org/2000/svg\" height=\"24px\"viewBox=\"0 0 24 24\"\n",
       "     width=\"24px\">\n",
       "    <g>\n",
       "        <path d=\"M19 3H5c-1.1 0-2 .9-2 2v14c0 1.1.9 2 2 2h14c1.1 0 2-.9 2-2V5c0-1.1-.9-2-2-2zM9 17H7v-7h2v7zm4 0h-2V7h2v10zm4 0h-2v-4h2v4z\"/>\n",
       "    </g>\n",
       "</svg>\n",
       "  </button>\n",
       "\n",
       "<style>\n",
       "  .colab-df-quickchart {\n",
       "      --bg-color: #E8F0FE;\n",
       "      --fill-color: #1967D2;\n",
       "      --hover-bg-color: #E2EBFA;\n",
       "      --hover-fill-color: #174EA6;\n",
       "      --disabled-fill-color: #AAA;\n",
       "      --disabled-bg-color: #DDD;\n",
       "  }\n",
       "\n",
       "  [theme=dark] .colab-df-quickchart {\n",
       "      --bg-color: #3B4455;\n",
       "      --fill-color: #D2E3FC;\n",
       "      --hover-bg-color: #434B5C;\n",
       "      --hover-fill-color: #FFFFFF;\n",
       "      --disabled-bg-color: #3B4455;\n",
       "      --disabled-fill-color: #666;\n",
       "  }\n",
       "\n",
       "  .colab-df-quickchart {\n",
       "    background-color: var(--bg-color);\n",
       "    border: none;\n",
       "    border-radius: 50%;\n",
       "    cursor: pointer;\n",
       "    display: none;\n",
       "    fill: var(--fill-color);\n",
       "    height: 32px;\n",
       "    padding: 0;\n",
       "    width: 32px;\n",
       "  }\n",
       "\n",
       "  .colab-df-quickchart:hover {\n",
       "    background-color: var(--hover-bg-color);\n",
       "    box-shadow: 0 1px 2px rgba(60, 64, 67, 0.3), 0 1px 3px 1px rgba(60, 64, 67, 0.15);\n",
       "    fill: var(--button-hover-fill-color);\n",
       "  }\n",
       "\n",
       "  .colab-df-quickchart-complete:disabled,\n",
       "  .colab-df-quickchart-complete:disabled:hover {\n",
       "    background-color: var(--disabled-bg-color);\n",
       "    fill: var(--disabled-fill-color);\n",
       "    box-shadow: none;\n",
       "  }\n",
       "\n",
       "  .colab-df-spinner {\n",
       "    border: 2px solid var(--fill-color);\n",
       "    border-color: transparent;\n",
       "    border-bottom-color: var(--fill-color);\n",
       "    animation:\n",
       "      spin 1s steps(1) infinite;\n",
       "  }\n",
       "\n",
       "  @keyframes spin {\n",
       "    0% {\n",
       "      border-color: transparent;\n",
       "      border-bottom-color: var(--fill-color);\n",
       "      border-left-color: var(--fill-color);\n",
       "    }\n",
       "    20% {\n",
       "      border-color: transparent;\n",
       "      border-left-color: var(--fill-color);\n",
       "      border-top-color: var(--fill-color);\n",
       "    }\n",
       "    30% {\n",
       "      border-color: transparent;\n",
       "      border-left-color: var(--fill-color);\n",
       "      border-top-color: var(--fill-color);\n",
       "      border-right-color: var(--fill-color);\n",
       "    }\n",
       "    40% {\n",
       "      border-color: transparent;\n",
       "      border-right-color: var(--fill-color);\n",
       "      border-top-color: var(--fill-color);\n",
       "    }\n",
       "    60% {\n",
       "      border-color: transparent;\n",
       "      border-right-color: var(--fill-color);\n",
       "    }\n",
       "    80% {\n",
       "      border-color: transparent;\n",
       "      border-right-color: var(--fill-color);\n",
       "      border-bottom-color: var(--fill-color);\n",
       "    }\n",
       "    90% {\n",
       "      border-color: transparent;\n",
       "      border-bottom-color: var(--fill-color);\n",
       "    }\n",
       "  }\n",
       "</style>\n",
       "\n",
       "  <script>\n",
       "    async function quickchart(key) {\n",
       "      const quickchartButtonEl =\n",
       "        document.querySelector('#' + key + ' button');\n",
       "      quickchartButtonEl.disabled = true;  // To prevent multiple clicks.\n",
       "      quickchartButtonEl.classList.add('colab-df-spinner');\n",
       "      try {\n",
       "        const charts = await google.colab.kernel.invokeFunction(\n",
       "            'suggestCharts', [key], {});\n",
       "      } catch (error) {\n",
       "        console.error('Error during call to suggestCharts:', error);\n",
       "      }\n",
       "      quickchartButtonEl.classList.remove('colab-df-spinner');\n",
       "      quickchartButtonEl.classList.add('colab-df-quickchart-complete');\n",
       "    }\n",
       "    (() => {\n",
       "      let quickchartButtonEl =\n",
       "        document.querySelector('#df-129c5c40-f87c-42ff-852d-3545263162b7 button');\n",
       "      quickchartButtonEl.style.display =\n",
       "        google.colab.kernel.accessAllowed ? 'block' : 'none';\n",
       "    })();\n",
       "  </script>\n",
       "</div>\n",
       "\n",
       "  <div id=\"id_80f1b2f6-c049-46bd-9322-866b0dfff480\">\n",
       "    <style>\n",
       "      .colab-df-generate {\n",
       "        background-color: #E8F0FE;\n",
       "        border: none;\n",
       "        border-radius: 50%;\n",
       "        cursor: pointer;\n",
       "        display: none;\n",
       "        fill: #1967D2;\n",
       "        height: 32px;\n",
       "        padding: 0 0 0 0;\n",
       "        width: 32px;\n",
       "      }\n",
       "\n",
       "      .colab-df-generate:hover {\n",
       "        background-color: #E2EBFA;\n",
       "        box-shadow: 0px 1px 2px rgba(60, 64, 67, 0.3), 0px 1px 3px 1px rgba(60, 64, 67, 0.15);\n",
       "        fill: #174EA6;\n",
       "      }\n",
       "\n",
       "      [theme=dark] .colab-df-generate {\n",
       "        background-color: #3B4455;\n",
       "        fill: #D2E3FC;\n",
       "      }\n",
       "\n",
       "      [theme=dark] .colab-df-generate:hover {\n",
       "        background-color: #434B5C;\n",
       "        box-shadow: 0px 1px 3px 1px rgba(0, 0, 0, 0.15);\n",
       "        filter: drop-shadow(0px 1px 2px rgba(0, 0, 0, 0.3));\n",
       "        fill: #FFFFFF;\n",
       "      }\n",
       "    </style>\n",
       "    <button class=\"colab-df-generate\" onclick=\"generateWithVariable('data')\"\n",
       "            title=\"Generate code using this dataframe.\"\n",
       "            style=\"display:none;\">\n",
       "\n",
       "  <svg xmlns=\"http://www.w3.org/2000/svg\" height=\"24px\"viewBox=\"0 0 24 24\"\n",
       "       width=\"24px\">\n",
       "    <path d=\"M7,19H8.4L18.45,9,17,7.55,7,17.6ZM5,21V16.75L18.45,3.32a2,2,0,0,1,2.83,0l1.4,1.43a1.91,1.91,0,0,1,.58,1.4,1.91,1.91,0,0,1-.58,1.4L9.25,21ZM18.45,9,17,7.55Zm-12,3A5.31,5.31,0,0,0,4.9,8.1,5.31,5.31,0,0,0,1,6.5,5.31,5.31,0,0,0,4.9,4.9,5.31,5.31,0,0,0,6.5,1,5.31,5.31,0,0,0,8.1,4.9,5.31,5.31,0,0,0,12,6.5,5.46,5.46,0,0,0,6.5,12Z\"/>\n",
       "  </svg>\n",
       "    </button>\n",
       "    <script>\n",
       "      (() => {\n",
       "      const buttonEl =\n",
       "        document.querySelector('#id_80f1b2f6-c049-46bd-9322-866b0dfff480 button.colab-df-generate');\n",
       "      buttonEl.style.display =\n",
       "        google.colab.kernel.accessAllowed ? 'block' : 'none';\n",
       "\n",
       "      buttonEl.onclick = () => {\n",
       "        google.colab.notebook.generateWithVariable('data');\n",
       "      }\n",
       "      })();\n",
       "    </script>\n",
       "  </div>\n",
       "\n",
       "    </div>\n",
       "  </div>\n"
      ],
      "application/vnd.google.colaboratory.intrinsic+json": {
       "type": "dataframe",
       "variable_name": "data",
       "summary": "{\n  \"name\": \"data\",\n  \"rows\": 9416,\n  \"fields\": [\n    {\n      \"column\": \"Sequence\",\n      \"properties\": {\n        \"dtype\": \"string\",\n        \"num_unique_values\": 9416,\n        \"samples\": [\n          \"atgcagtcaataacacctccattaattgccgttattggtagcgatggttcaggcaagtcaacggtgtgtgaacatcttattaccgttgtcgaaaaatatggtgctgccgaaagagttcatttaggaaaacaggccggaaatgtcggtcgtgcagtgacaaaattaccgttgatgggaaaatccttacataaaacaattgaacgaaatcaggtgaaaacagcaaaaaaattgccaggaccagttccggcgctggtaattacagcgtttgtcgcccgtcgcttactgcgctttcgtcatatgcttgcctgtcgtcgtcgcgggttaattgttctaaccgaccgttatcctcaggaccaaattcctggcgcttacgatggtacggtgttcccacctaacgttgaaggtggtcgttttgtctcatggctggcaagccaggaacgtaaagcgtttcactggatggcgagccataagcctgatctggtcatcaaactcaatgttgaccttgaagttgcctgcgcgcgtaaacccgaccataaacgggaatcgctggcgaggaagattgccataacgccacagttaacctttggtggtgcacnnnnnnnnnngcctgaccacaaaagggagtcgctggcaagaaagatagccataacgccacagttaacctttggtggtgcacaactggttgatatcgatgccaatcagccactggaacaggtgctgattgatgcagaaaaagcgattacggattttatgaccgcgcgtggttatcactag\",\n          \"atgaacgaaatggatcgcgcggggcaggccgcgcgggatgcgggctacggcccggagcacgacgccgaagcgcagtcgaaccatgaggccgaacgcgagcgccgccgccgtctcaacgaagaacttatcgacgcctacgacgaagagctcgaaatggaagtcgacgatcgcctgcaggaaggcggtctggaaatcagcgaagaagcgcgcgcgctgcgcaaggtctatttccgcgagctgatccgcctgcagggcgaactggtgaagatgcaggactggatcatgagcacgggccaccggctcgtggtgatcttcgaagggcgcgatgcggcgggcaagggcggcgtgatcaagcgcatcacgcagcgcctgaacccgcgcatgtgccgcgtggctgcgctgcccgcgccgaacaaccgcgaacgcacgcagtggtatttccagcgctacgttcagcatctgccggcgggcggcgaaatggtgctgttcgaccgcagttggtacaaccgcgcgggcgtcgagcgcgtgatgaacttctgcacggacgacgagtacgaggagtttttccgctcggtgcccgagttcgaaaagatgctggtgcgcagcggcatccagatcgtcaagtactggttttcgatcaccgacgacgagcaggaagtgcgcttccagagccgtatcgacgatccgctcaagcagtggaagctctcgccgatggatctcgaaagccgtcgccgctgggaagcctatacgcaagtcaaggaagcgatgctgcagcgctcgcatattccggaagcgccgtggtgggtggtgcagggcgtggacaagaagcgcgcgcgcctgaactgcatccatcatctgctcagccaggtgccttatcacgaggtcgagcatccggcggtgacgctgcccgcgcgcgtgcatcatccggactatattcgccagccggtgccccctgagatgttcgtgcccgagctgtactga\",\n          \"atgagtgatgtcgccgagacactagatcctttgcgcttgcccttacagggcgagcgcctgattgaagcctctgccggcacaggcaaaacctttacgattgcggcgctttatttgcgcctgttacttggactaggcggttccgccgcctttccccgcccgctgaccgttgaagaactgctggtggtcacctttaccgaggctgccacggcagaattgcgcggtcgtatccgtagcaatatccacgagttgcgcatcgcctgtctgcgtgaaaccaccgacaatccattgtacgaacacctgctggaagaggtcgacgataaagcgcaagccgcgcagtggttgttgttagccgaacggcagatggatgaagcggcagtctttactattcacggcttttgccagcgcatgctcaacctgaatgcctttgaatccggcatgctgtttgagcagcagctgattgaagatgagtctctgctacgctaccaggcctgcgccgatttctggcgtcgccactgctacccgctgccgcgtgaaatagcccaggtcgtctttgaaacctggaaagggccgcaggcgttgctgcgcgatattaatcgttatctgcaaggcgaagcgccggttatcaaagcaccgccgcccgatgatgaaacgctagcttcccgtcacgcgcaaattgtggcgcgtattgatacggtaaaacagcagtggcgcgacgcagtgggtgaactggatgcgctgatcgaatcttctggtattgatcgacgcaagtttaaccgtagcaatcaggctaaatggatcgacaagatcagcgcctgggcagaagaagagacaaacagttatcagttgccggagtcgctggaaaaattctcccagcgtttcttagaagatcgcacgaaagccgggggggaaaccccgcgacatccactgtttgaggcgatcgatcaactgcttgcagaaccattgtcgatccgtgatctggtgatcacccgcgcattggctgagatccgcgaaacagtagcgcgtgaaaaacgccgccgtggcgaattgggttttgatgacatgttaagtcggctcgattccgcgctgcgtagcgaaagcggcgaggtgttggcagcggcgatccgtacgcgattcccggtggcaatgatcgatgaatttcaggataccgacccccagcagtaccgaatttttcgccgtatctggcaccatcagccagaaaccgcattgttgctgattggcgacccgaagcaggccatatatgcattccggggtgcggatatcttcacttatatgaaggcgcgtagtgaagttcacgcccactacactttagacaccaactggcgctccgcacctggaatggtgaacagtgtgaacaagcttttcagccagactgatgacgcgttcatgtttcgcgaaataccgtttattccagtgaaatcagccgggaaaaatcaggcgttacgttttgtctttaaaggtgaaacgcagcctgcgatgaaaatgtggctgatggaaggcgaaagctgcggcgttggcgactatcaaagtaccatggcgcaggtatgtgctgcgcaaatccgcgactggctacaagccggacagcggggcgaagcgttgctgatgaacggcgacgacgcgcgtccggtgcgtgcttcggacatcagcgtgctggtgcgcagccgccaggaggccgcccaggtgcgcgatgccttaacgttgctggaaatcccttccgtttacctttcgaaccgcgatagtgtttttgaaactctggaagcgcaggaaatgctttggctgttgcaggcggtgatgacgcccgaacgtgagaacaccctgcgcagtgcgctggcaacgtcaatgatggggctgaatgcgctggatattgaaacgctgaataatgacgaacatgcgtgggatgcggtagtcgaagagttcgatggttatcggcaaatctggcgcaaacgtggcgttatgccgatgctgcgggcgctgatgtcggcgcgtaacattgcagaaaacttgctggcaacggcaggcggtgagcggcgtcttaccgatatcttgcatatcagcgaactgcttcaagaagccggaacgcagctggaaagtgaacatgcgctggtacgctggttatcgcaacatatcctcgagccagacagtaatgcctccagccaacaaatgcgcctcgaaagtgataaacatctggtgcagattgtcacgatccataaatcgaaagggctggaatatccgctggtctggttgccatttattaccaatttccgcgtccaggatcaggcgttttatcacgatcgccactcgtttgaggcagttttggatcttaatgctgcgccagaaagcgtcgacctcgcggaggtcgaacgtctggcggaagatctgcgtttgctttacgtggcgctgacgcgttcggtttggcattgcagtctcggcgttgcaccgctggtgcgccgtcgtggcgataaaaaaggtgacaccgacgtccaccaaagtgcgctcgggcgtttgctgcaaaaaggggaaccgcaagatgcggcagggcttcgcacctgtattgaagcgttatgcgatgatgatattgcctggcaaacggcacaaactggtgataaccagccctggcaggttaatgatgctttaactgcagaactgaatgcgaggacactacaacgattgcccggcgataactggcgtgtcaccagctactccggcttgcagcagcgtggtcacggtatcgctcaggatctgatgccacggctggatgttgatgccgcaggcgtggtcagcgtcgttgaagaaccgacgttaacaccgcatcagttcccgcgcggtgcgtcaccggggacattcttgcacagtttgtttgaagacctcgattttacccagccggttgacccgaactgggtacaggaaaaactggaactcggcggctttgaatcgcagtgggaaccggtgttgaccgagtggatcacggctgtcctccaggcacctctcaatgaaacgggtgttagcctgagtcagctttccgaccgcgataaacaggtggagatggagttttacctgccgattagcgaaccgctcatcgccagccagcttgatgcactaattcgccagtttgacccgctatccgctggctgcccgccgctggagttcatgcaggtacgcggcatgttaaaaggctttatcgacctggtattccgccacgaagggcgttattacctgctcgactataaatccaactggctgggtgaagacagttcggcttacacccaacaggctatggcagcagcgatgcaggcacaccgctatgatctgcaatatcagctttataccctggcgctgcatcgctatctgcgccatcgcattgctgattacgactatgatcgtcactttggcggcgttatctatctgttcctgcgtggcgttgataaagaacatccgcaacaagggatttacacaacccgacccaacgccgggttgattgccctgannnnnnnnnnnnnnnnnnnnnnnnnnnnnnnnnnnnnnnnnnnnnnnnnnnnnnnnnnnnnnnnnnnnnnnnnnnnnnnnnnnnnnnnnnnnnnnnnnnnnnnnnnnnnnnnnnnnnnnnnnnnnnnnnnnnnnnnnnnnnnnnnnnnnnnnnnnnnnnnnnnnnnnnnnnnnnnnnnnnnnnnnnnnnnnnnnnnnnnnnnnnnnnnnnnnnnnnnnnnnnnnnnnnnnnnnnnnnnnnnnnnnnnnnnnnnnnnnnnnnnnnnnngcgacctgtgtcagtga\"\n        ],\n        \"semantic_type\": \"\",\n        \"description\": \"\"\n      }\n    },\n    {\n      \"column\": \"MeltingPoint\",\n      \"properties\": {\n        \"dtype\": \"number\",\n        \"std\": 4.410651190284151,\n        \"min\": 59.988225598748514,\n        \"max\": 92.8046865040983,\n        \"num_unique_values\": 9144,\n        \"samples\": [\n          90.42050760245908,\n          85.22620636797927,\n          80.8018901950218\n        ],\n        \"semantic_type\": \"\",\n        \"description\": \"\"\n      }\n    }\n  ]\n}"
      }
     },
     "metadata": {},
     "execution_count": 4
    }
   ],
   "source": [
    "# Load and view the dataset, split into train/test\n",
    "data = pd.read_csv(\"../UMichSciFM-2024/data/meltingpoint.csv\", index_col=0)\n",
    "data"
   ]
  },
  {
   "cell_type": "code",
   "execution_count": null,
   "metadata": {
    "id": "qNHyufydcKy4"
   },
   "outputs": [],
   "source": [
    "# Split dataset for use later\n",
    "\n",
    "# Returns two independent dataframes that we will use for\n",
    "# melting point modelling\n",
    "train, test = train_test_split(data, train_size=1000, test_size=200)"
   ]
  },
  {
   "cell_type": "markdown",
   "metadata": {
    "id": "dGfPlMChXypQ"
   },
   "source": [
    "# Begin Modelling\n",
    "\n",
    "Below is an example of generating embeddings with GenSLM-25M, we will follow this generat workflow to generate embeddings for our dataset, and use a downstream model to predict the melting point of an input sequence"
   ]
  },
  {
   "cell_type": "code",
   "execution_count": null,
   "metadata": {
    "colab": {
     "base_uri": "https://localhost:8080/"
    },
    "id": "NH_WlPYNXhq2",
    "outputId": "806faacb-c411-4370-919e-530349726327"
   },
   "outputs": [
    {
     "output_type": "stream",
     "name": "stderr",
     "text": [
      "Tokenizing...: 100%|██████████| 2/2 [00:00<00:00, 128.76it/s]\n"
     ]
    },
    {
     "output_type": "execute_result",
     "data": {
      "text/plain": [
       "(2, 512)"
      ]
     },
     "metadata": {},
     "execution_count": 6
    }
   ],
   "source": [
    "# How To: Setup cuda reference (example for my case: GPU nvidia 1650 + win 11):\n",
    "# ref. which said we still be able to run pytorch with cuda on this GPU 1650, even if this gpu only support on cuda 7.5: \n",
    "#   https://discuss.pytorch.org/t/is-there-a-table-which-shows-the-supported-cuda-version-for-every-pytorch-version/105846\n",
    "# step 1. install cuda sdk 12\n",
    "#   https://developer.nvidia.com/cuda-downloads?target_os=Windows&target_arch=x86_64&target_version=11&target_type=exe_local\n",
    "# step 2. install pytorch which support cuda sdk 12.4 `conda install pytorch torchvision torchaudio pytorch-cuda=12.4 -c pytorch -c nvidia`\n",
    "#   https://discuss.pytorch.org/t/is-there-a-table-which-shows-the-supported-cuda-version-for-every-pytorch-version/105846/8\n",
    "# step 3. test. Re-start iPyhton, then test `import torch` and `torch.cuda.is_available()`.\n",
    "#  it should return True\n",
    "# done.\n",
    "\n",
    "# hotfix issue run on windows (See: https://github.com/ultralytics/yolov5/issues/10240)\n",
    "import pathlib\n",
    "temp = pathlib.PosixPath\n",
    "pathlib.PosixPath = pathlib.WindowsPath\n",
    "\n",
    "# Load model\n",
    "model = GenSLM(\"genslm_25M_patric\", model_cache_dir=\"../UMichSciFM-2024/model\")\n",
    "model.eval()\n",
    "\n",
    "# Select GPU device if it is available, else use CPU\n",
    "device = \"cuda\" if torch.cuda.is_available() else \"cpu\"\n",
    "model.to(device)\n",
    "\n",
    "# Input data is a list of gene sequences\n",
    "sequences = [\n",
    "    \"ATGAAAGTAACCGTTGTTGGAGCAGGTGCAGTTGGTGCAAGTTGCGCAGAATATATTGCA\",\n",
    "    \"ATTAAAGATTTCGCATCTGAAGTTGTTTTGTTAGACATTAAAGAAGGTTATGCCGAAGGT\",\n",
    "]\n",
    "\n",
    "example_dataset = SequenceDataset(sequences, model.seq_length, model.tokenizer)\n",
    "example_dataloader = DataLoader(example_dataset, batch_size =2)\n",
    "\n",
    "# Compute averaged-embeddings for each input sequence\n",
    "embeddings = []\n",
    "with torch.no_grad():\n",
    "    for batch in example_dataloader:\n",
    "        outputs = model(\n",
    "            batch[\"input_ids\"].to(device),\n",
    "            batch[\"attention_mask\"].to(device),\n",
    "            output_hidden_states=True,\n",
    "        )\n",
    "        # outputs.hidden_states shape: (layers, batch_size, sequence_length, hidden_size)\n",
    "        # Use the embeddings of the last layer\n",
    "        emb = outputs.hidden_states[-1].detach().cpu().numpy()\n",
    "        # Compute average over sequence length\n",
    "        emb = np.mean(emb, axis=1)\n",
    "        embeddings.append(emb)\n",
    "\n",
    "# Concatenate embeddings into an array of shape (num_sequences, hidden_size)\n",
    "embeddings = np.concatenate(embeddings)\n",
    "embeddings.shape"
   ]
  },
  {
   "cell_type": "code",
   "execution_count": null,
   "metadata": {
    "colab": {
     "base_uri": "https://localhost:8080/"
    },
    "id": "xG66v3y6YzHj",
    "outputId": "b8064dac-4e75-4c93-8d49-dd38d9fd2474"
   },
   "outputs": [
    {
     "output_type": "stream",
     "name": "stderr",
     "text": [
      "Tokenizing...: 100%|██████████| 1000/1000 [00:01<00:00, 540.13it/s]\n",
      "Embedding: 100%|██████████| 125/125 [01:35<00:00,  1.31it/s]\n"
     ]
    },
    {
     "output_type": "execute_result",
     "data": {
      "text/plain": [
       "(1000, 512)"
      ]
     },
     "metadata": {},
     "execution_count": 7
    }
   ],
   "source": [
    "# Get embeddings for training dataset\n",
    "train_dataset = SequenceDataset(train.Sequence.values, model.seq_length, model.tokenizer)\n",
    "train_dataloader = DataLoader(train_dataset, batch_size=8)\n",
    "\n",
    "# Compute averaged-embeddings for each input sequence\n",
    "train_embeddings = []\n",
    "with torch.no_grad():\n",
    "    for batch in tqdm(train_dataloader, desc=\"Embedding\"):\n",
    "        outputs = model(\n",
    "            batch[\"input_ids\"].to(device),\n",
    "            batch[\"attention_mask\"].to(device),\n",
    "            output_hidden_states=True,\n",
    "        )\n",
    "        # outputs.hidden_states shape: (layers, batch_size, sequence_length, hidden_size)\n",
    "        # Use the embeddings of the last layer\n",
    "        emb = outputs.hidden_states[-1].detach().cpu().numpy()\n",
    "        # Compute average over sequence length\n",
    "        emb = np.mean(emb, axis=1)\n",
    "        train_embeddings.append(emb)\n",
    "\n",
    "# Concatenate embeddings into an array of shape (num_sequences, hidden_size)\n",
    "train_embeddings = np.concatenate(train_embeddings)\n",
    "train_embeddings.shape"
   ]
  },
  {
   "cell_type": "code",
   "execution_count": null,
   "metadata": {
    "colab": {
     "base_uri": "https://localhost:8080/",
     "height": 75
    },
    "id": "T99uwyOOcxXF",
    "outputId": "1963aa18-5706-4867-bf3d-4a462592052a"
   },
   "outputs": [
    {
     "output_type": "execute_result",
     "data": {
      "text/plain": [
       "SVR()"
      ],
      "text/html": [
       "<style>#sk-container-id-1 {color: black;}#sk-container-id-1 pre{padding: 0;}#sk-container-id-1 div.sk-toggleable {background-color: white;}#sk-container-id-1 label.sk-toggleable__label {cursor: pointer;display: block;width: 100%;margin-bottom: 0;padding: 0.3em;box-sizing: border-box;text-align: center;}#sk-container-id-1 label.sk-toggleable__label-arrow:before {content: \"▸\";float: left;margin-right: 0.25em;color: #696969;}#sk-container-id-1 label.sk-toggleable__label-arrow:hover:before {color: black;}#sk-container-id-1 div.sk-estimator:hover label.sk-toggleable__label-arrow:before {color: black;}#sk-container-id-1 div.sk-toggleable__content {max-height: 0;max-width: 0;overflow: hidden;text-align: left;background-color: #f0f8ff;}#sk-container-id-1 div.sk-toggleable__content pre {margin: 0.2em;color: black;border-radius: 0.25em;background-color: #f0f8ff;}#sk-container-id-1 input.sk-toggleable__control:checked~div.sk-toggleable__content {max-height: 200px;max-width: 100%;overflow: auto;}#sk-container-id-1 input.sk-toggleable__control:checked~label.sk-toggleable__label-arrow:before {content: \"▾\";}#sk-container-id-1 div.sk-estimator input.sk-toggleable__control:checked~label.sk-toggleable__label {background-color: #d4ebff;}#sk-container-id-1 div.sk-label input.sk-toggleable__control:checked~label.sk-toggleable__label {background-color: #d4ebff;}#sk-container-id-1 input.sk-hidden--visually {border: 0;clip: rect(1px 1px 1px 1px);clip: rect(1px, 1px, 1px, 1px);height: 1px;margin: -1px;overflow: hidden;padding: 0;position: absolute;width: 1px;}#sk-container-id-1 div.sk-estimator {font-family: monospace;background-color: #f0f8ff;border: 1px dotted black;border-radius: 0.25em;box-sizing: border-box;margin-bottom: 0.5em;}#sk-container-id-1 div.sk-estimator:hover {background-color: #d4ebff;}#sk-container-id-1 div.sk-parallel-item::after {content: \"\";width: 100%;border-bottom: 1px solid gray;flex-grow: 1;}#sk-container-id-1 div.sk-label:hover label.sk-toggleable__label {background-color: #d4ebff;}#sk-container-id-1 div.sk-serial::before {content: \"\";position: absolute;border-left: 1px solid gray;box-sizing: border-box;top: 0;bottom: 0;left: 50%;z-index: 0;}#sk-container-id-1 div.sk-serial {display: flex;flex-direction: column;align-items: center;background-color: white;padding-right: 0.2em;padding-left: 0.2em;position: relative;}#sk-container-id-1 div.sk-item {position: relative;z-index: 1;}#sk-container-id-1 div.sk-parallel {display: flex;align-items: stretch;justify-content: center;background-color: white;position: relative;}#sk-container-id-1 div.sk-item::before, #sk-container-id-1 div.sk-parallel-item::before {content: \"\";position: absolute;border-left: 1px solid gray;box-sizing: border-box;top: 0;bottom: 0;left: 50%;z-index: -1;}#sk-container-id-1 div.sk-parallel-item {display: flex;flex-direction: column;z-index: 1;position: relative;background-color: white;}#sk-container-id-1 div.sk-parallel-item:first-child::after {align-self: flex-end;width: 50%;}#sk-container-id-1 div.sk-parallel-item:last-child::after {align-self: flex-start;width: 50%;}#sk-container-id-1 div.sk-parallel-item:only-child::after {width: 0;}#sk-container-id-1 div.sk-dashed-wrapped {border: 1px dashed gray;margin: 0 0.4em 0.5em 0.4em;box-sizing: border-box;padding-bottom: 0.4em;background-color: white;}#sk-container-id-1 div.sk-label label {font-family: monospace;font-weight: bold;display: inline-block;line-height: 1.2em;}#sk-container-id-1 div.sk-label-container {text-align: center;}#sk-container-id-1 div.sk-container {/* jupyter's `normalize.less` sets `[hidden] { display: none; }` but bootstrap.min.css set `[hidden] { display: none !important; }` so we also need the `!important` here to be able to override the default hidden behavior on the sphinx rendered scikit-learn.org. See: https://github.com/scikit-learn/scikit-learn/issues/21755 */display: inline-block !important;position: relative;}#sk-container-id-1 div.sk-text-repr-fallback {display: none;}</style><div id=\"sk-container-id-1\" class=\"sk-top-container\"><div class=\"sk-text-repr-fallback\"><pre>SVR()</pre><b>In a Jupyter environment, please rerun this cell to show the HTML representation or trust the notebook. <br />On GitHub, the HTML representation is unable to render, please try loading this page with nbviewer.org.</b></div><div class=\"sk-container\" hidden><div class=\"sk-item\"><div class=\"sk-estimator sk-toggleable\"><input class=\"sk-toggleable__control sk-hidden--visually\" id=\"sk-estimator-id-1\" type=\"checkbox\" checked><label for=\"sk-estimator-id-1\" class=\"sk-toggleable__label sk-toggleable__label-arrow\">SVR</label><div class=\"sk-toggleable__content\"><pre>SVR()</pre></div></div></div></div></div>"
      ]
     },
     "metadata": {},
     "execution_count": 8
    }
   ],
   "source": [
    "# Train SVM on embeddings for melting point\n",
    "mp_regr = svm.SVR()\n",
    "mp_regr.fit(train_embeddings, train.MeltingPoint.values)\n"
   ]
  },
  {
   "cell_type": "markdown",
   "metadata": {
    "id": "oB-6ezWfha_6"
   },
   "source": [
    "# Evaluation"
   ]
  },
  {
   "cell_type": "code",
   "execution_count": null,
   "metadata": {
    "colab": {
     "base_uri": "https://localhost:8080/"
    },
    "id": "nRGswn1OhNMj",
    "outputId": "b4b5c149-3052-4b32-a326-855571bacaac"
   },
   "outputs": [
    {
     "output_type": "stream",
     "name": "stderr",
     "text": [
      "Tokenizing...: 100%|██████████| 200/200 [00:00<00:00, 578.72it/s]\n",
      "Embedding: 100%|██████████| 25/25 [00:19<00:00,  1.27it/s]\n"
     ]
    },
    {
     "output_type": "execute_result",
     "data": {
      "text/plain": [
       "(200, 512)"
      ]
     },
     "metadata": {},
     "execution_count": 9
    }
   ],
   "source": [
    "# Get embeddings for evaluation dataset\n",
    "test_dataset = SequenceDataset(test.Sequence.values, model.seq_length, model.tokenizer)\n",
    "test_dataloader = DataLoader(test_dataset, batch_size=8)\n",
    "\n",
    "# Compute averaged-embeddings for each input sequence\n",
    "test_embeddings = []\n",
    "with torch.no_grad():\n",
    "    for batch in tqdm(test_dataloader, desc=\"Embedding\"):\n",
    "        outputs = model(\n",
    "            batch[\"input_ids\"].to(device),\n",
    "            batch[\"attention_mask\"].to(device),\n",
    "            output_hidden_states=True,\n",
    "        )\n",
    "        # outputs.hidden_states shape: (layers, batch_size, sequence_length, hidden_size)\n",
    "        # Use the embeddings of the last layer\n",
    "        emb = outputs.hidden_states[-1].detach().cpu().numpy()\n",
    "        # Compute average over sequence length\n",
    "        emb = np.mean(emb, axis=1)\n",
    "        test_embeddings.append(emb)\n",
    "\n",
    "# Concatenate embeddings into an array of shape (num_sequences, hidden_size)\n",
    "test_embeddings = np.concatenate(test_embeddings)\n",
    "test_embeddings.shape"
   ]
  },
  {
   "cell_type": "code",
   "execution_count": null,
   "metadata": {
    "colab": {
     "base_uri": "https://localhost:8080/"
    },
    "id": "kPCYHM5dhi7N",
    "outputId": "325b8f74-b223-4264-d271-064b2bb6adc8"
   },
   "outputs": [
    {
     "output_type": "stream",
     "name": "stdout",
     "text": [
      "Regressor R^2 0.9491789298391021 for test set\n",
      "Empirical melting point: 80.768\t\tPredicted melting point: 80.240\n",
      "Empirical melting point: 86.245\t\tPredicted melting point: 84.832\n",
      "Empirical melting point: 76.790\t\tPredicted melting point: 75.407\n",
      "Empirical melting point: 81.465\t\tPredicted melting point: 81.254\n",
      "Empirical melting point: 76.757\t\tPredicted melting point: 77.870\n",
      "Empirical melting point: 82.849\t\tPredicted melting point: 82.907\n",
      "Empirical melting point: 87.363\t\tPredicted melting point: 87.801\n",
      "Empirical melting point: 84.296\t\tPredicted melting point: 83.767\n",
      "Empirical melting point: 77.513\t\tPredicted melting point: 76.920\n",
      "Empirical melting point: 87.496\t\tPredicted melting point: 86.916\n"
     ]
    }
   ],
   "source": [
    "# Evaluate the performance of the regressor on a held out test set\n",
    "\n",
    "r2 = mp_regr.score(test_embeddings, test.MeltingPoint.values)\n",
    "\n",
    "print(f\"Regressor R^2 {r2} for test set\")\n",
    "\n",
    "# Test a few examples and see predictions\n",
    "example_predictions = mp_regr.predict(test_embeddings[:10])\n",
    "\n",
    "for (idx, row), pred_val in zip(test.iterrows(), example_predictions):\n",
    "  print(f\"Empirical melting point: {row['MeltingPoint']:.3f}\\t\\tPredicted melting point: {pred_val:.3f}\")"
   ]
  }
 ],
 "metadata": {
  "accelerator": "GPU",
  "colab": {
   "gpuType": "T4",
   "provenance": []
  },
  "kernelspec": {
   "display_name": "Python 3 (ipykernel)",
   "name": "python3",
   "language": "python"
  },
  "language_info": {
   "name": "python"
  }
 },
 "nbformat": 4,
 "nbformat_minor": 0
}

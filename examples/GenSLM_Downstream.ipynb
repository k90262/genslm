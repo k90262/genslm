{
 "cells": [
  {
   "cell_type": "markdown",
   "metadata": {
    "id": "jFJQeb_qraNB"
   },
   "source": [
    "# Background\n",
    "\n",
    "## DNA Melting Point\n",
    "\n",
    "> Colab version: https://colab.research.google.com/drive/1YBbVp0rSQiY76YzYzlxF1gOQXBi1sc1U#scrollTo=PsDHUoNGU62n\n",
    "> \n",
    "> ----\n",
    "> Original Version: https://github.com/ramanathanlab/SciFM24-Tutorial/blob/main/notebooks/GenSLM_Downstream.ipynb\n",
    "> Original Colab: https://colab.research.google.com/github/ramanathanlab/SciFM24-Tutorial/blob/main/notebooks/GenSLM_Downstream.ipynb\n",
    "\n",
    "__Wikipedia:__\n",
    "\n",
    "Nucleic acid thermodynamics is the study of how temperature affects the nucleic acid structure of double-stranded DNA (dsDNA). The melting temperature (Tm) is defined as the temperature at which half of the DNA strands are in the random coil or single-stranded (ssDNA) state. Tm depends on the length of the DNA molecule and its specific nucleotide sequence. DNA, when in a state where its two strands are dissociated (i.e., the dsDNA molecule exists as two independent strands), is referred to as having been denatured by the high temperature.\n",
    "\n",
    "\n",
    "## This notebook\n",
    "\n",
    "In this notebook we will use the GenSLM 25M parameter langauge model to generate embeddings for sequences and use a downstream model to take the embeddings and predict the melting point of the associated sequence. This workflow is common for many bioinformatics tasks, and can easily be adapted to other regression and classification problems."
   ]
  },
  {
   "cell_type": "code",
   "metadata": {
    "colab": {
     "base_uri": "https://localhost:8080/"
    },
    "id": "9W_LPOTOMrMs",
    "outputId": "ceaf1bd2-f13d-4f81-faa3-51c863c563c2",
    "ExecuteTime": {
     "end_time": "2024-08-30T05:51:18.134237Z",
     "start_time": "2024-08-30T05:51:18.039352Z"
    }
   },
   "source": [
    "!python --version"
   ],
   "outputs": [
    {
     "name": "stdout",
     "output_type": "stream",
     "text": [
      "Python 3.10.14\n"
     ]
    }
   ],
   "execution_count": 17
  },
  {
   "cell_type": "code",
   "metadata": {
    "colab": {
     "base_uri": "https://localhost:8080/"
    },
    "id": "PsDHUoNGU62n",
    "outputId": "16c60af5-3d13-4fd5-ec19-0f226b35657f",
    "ExecuteTime": {
     "end_time": "2024-08-30T05:52:58.184108Z",
     "start_time": "2024-08-30T05:52:32.333332Z"
    }
   },
   "source": [
    "# Installing GenSLM\n",
    "# NOTE: You may need to run this twice due env reload\n",
    "!pip install git+https://github.com/k90262/genslm"
   ],
   "outputs": [
    {
     "name": "stdout",
     "output_type": "stream",
     "text": [
      "Collecting git+https://github.com/k90262/genslm\n",
      "  Cloning https://github.com/k90262/genslm to c:\\users\\ycho\\appdata\\local\\temp\\pip-req-build-6h9opqat\n",
      "  Resolved https://github.com/k90262/genslm to commit aed33b2e1492987290559e2f2f7962e0d50aff68\n",
      "  Preparing metadata (setup.py): started\n",
      "  Preparing metadata (setup.py): finished with status 'done'\n",
      "Collecting transformers@ git+https://github.com/maxzvyagin/transformers (from genslm==0.0.4a1)\n",
      "  Cloning https://github.com/maxzvyagin/transformers to c:\\users\\ycho\\appdata\\local\\temp\\pip-install-whh_vxza\\transformers_537d03a98f184a8cbbd7db6c89de13ab\n",
      "  Resolved https://github.com/maxzvyagin/transformers to commit ffd5aba0ad41a1ebd1897a77f6a3782fc2d75e1f\n",
      "  Installing build dependencies: started\n",
      "  Installing build dependencies: finished with status 'done'\n",
      "  Getting requirements to build wheel: started\n",
      "  Getting requirements to build wheel: finished with status 'done'\n",
      "  Preparing metadata (pyproject.toml): started\n",
      "  Preparing metadata (pyproject.toml): finished with status 'done'\n",
      "Requirement already satisfied: pytorch-lightning==2.4.0 in c:\\users\\ycho\\anaconda3\\envs\\genslm\\lib\\site-packages (from genslm==0.0.4a1) (2.4.0)\n",
      "Requirement already satisfied: wandb in c:\\users\\ycho\\anaconda3\\envs\\genslm\\lib\\site-packages (from genslm==0.0.4a1) (0.17.7)\n",
      "Requirement already satisfied: pydantic==1.10.2 in c:\\users\\ycho\\anaconda3\\envs\\genslm\\lib\\site-packages (from genslm==0.0.4a1) (1.10.2)\n",
      "Requirement already satisfied: biopython==1.79 in c:\\users\\ycho\\anaconda3\\envs\\genslm\\lib\\site-packages (from genslm==0.0.4a1) (1.79)\n",
      "Requirement already satisfied: pandas in c:\\users\\ycho\\anaconda3\\envs\\genslm\\lib\\site-packages (from genslm==0.0.4a1) (2.2.2)\n",
      "Requirement already satisfied: natsort in c:\\users\\ycho\\anaconda3\\envs\\genslm\\lib\\site-packages (from genslm==0.0.4a1) (8.4.0)\n",
      "Requirement already satisfied: Jinja2 in c:\\users\\ycho\\anaconda3\\envs\\genslm\\lib\\site-packages (from genslm==0.0.4a1) (3.1.4)\n",
      "Requirement already satisfied: h5py==3.11.0 in c:\\users\\ycho\\anaconda3\\envs\\genslm\\lib\\site-packages (from genslm==0.0.4a1) (3.11.0)\n",
      "Requirement already satisfied: lightning-transformers==0.2.1 in c:\\users\\ycho\\anaconda3\\envs\\genslm\\lib\\site-packages (from genslm==0.0.4a1) (0.2.1)\n",
      "Requirement already satisfied: numpy in c:\\users\\ycho\\anaconda3\\envs\\genslm\\lib\\site-packages (from biopython==1.79->genslm==0.0.4a1) (1.26.3)\n",
      "Requirement already satisfied: torch>=1.10.0 in c:\\users\\ycho\\anaconda3\\envs\\genslm\\lib\\site-packages (from lightning-transformers==0.2.1->genslm==0.0.4a1) (2.4.0)\n",
      "Requirement already satisfied: tqdm in c:\\users\\ycho\\anaconda3\\envs\\genslm\\lib\\site-packages (from lightning-transformers==0.2.1->genslm==0.0.4a1) (4.66.5)\n",
      "Requirement already satisfied: torchmetrics>=0.7.0 in c:\\users\\ycho\\anaconda3\\envs\\genslm\\lib\\site-packages (from lightning-transformers==0.2.1->genslm==0.0.4a1) (1.4.1)\n",
      "Requirement already satisfied: datasets in c:\\users\\ycho\\anaconda3\\envs\\genslm\\lib\\site-packages (from lightning-transformers==0.2.1->genslm==0.0.4a1) (2.21.0)\n",
      "Requirement already satisfied: sentencepiece in c:\\users\\ycho\\anaconda3\\envs\\genslm\\lib\\site-packages (from lightning-transformers==0.2.1->genslm==0.0.4a1) (0.2.0)\n",
      "Requirement already satisfied: Pillow in c:\\users\\ycho\\anaconda3\\envs\\genslm\\lib\\site-packages (from lightning-transformers==0.2.1->genslm==0.0.4a1) (10.4.0)\n",
      "Requirement already satisfied: protobuf==3.20.1 in c:\\users\\ycho\\anaconda3\\envs\\genslm\\lib\\site-packages (from lightning-transformers==0.2.1->genslm==0.0.4a1) (3.20.1)\n",
      "Requirement already satisfied: typing-extensions>=4.1.0 in c:\\users\\ycho\\anaconda3\\envs\\genslm\\lib\\site-packages (from pydantic==1.10.2->genslm==0.0.4a1) (4.11.0)\n",
      "Requirement already satisfied: PyYAML>=5.4 in c:\\users\\ycho\\anaconda3\\envs\\genslm\\lib\\site-packages (from pytorch-lightning==2.4.0->genslm==0.0.4a1) (6.0.1)\n",
      "Requirement already satisfied: fsspec>=2022.5.0 in c:\\users\\ycho\\anaconda3\\envs\\genslm\\lib\\site-packages (from fsspec[http]>=2022.5.0->pytorch-lightning==2.4.0->genslm==0.0.4a1) (2024.6.1)\n",
      "Requirement already satisfied: packaging>=20.0 in c:\\users\\ycho\\anaconda3\\envs\\genslm\\lib\\site-packages (from pytorch-lightning==2.4.0->genslm==0.0.4a1) (24.1)\n",
      "Requirement already satisfied: lightning-utilities>=0.10.0 in c:\\users\\ycho\\anaconda3\\envs\\genslm\\lib\\site-packages (from pytorch-lightning==2.4.0->genslm==0.0.4a1) (0.11.6)\n",
      "Requirement already satisfied: filelock in c:\\users\\ycho\\anaconda3\\envs\\genslm\\lib\\site-packages (from transformers@ git+https://github.com/maxzvyagin/transformers->genslm==0.0.4a1) (3.13.1)\n",
      "Requirement already satisfied: huggingface-hub<1.0,>=0.1.0 in c:\\users\\ycho\\anaconda3\\envs\\genslm\\lib\\site-packages (from transformers@ git+https://github.com/maxzvyagin/transformers->genslm==0.0.4a1) (0.24.6)\n",
      "Requirement already satisfied: regex!=2019.12.17 in c:\\users\\ycho\\anaconda3\\envs\\genslm\\lib\\site-packages (from transformers@ git+https://github.com/maxzvyagin/transformers->genslm==0.0.4a1) (2024.7.24)\n",
      "Requirement already satisfied: requests in c:\\users\\ycho\\anaconda3\\envs\\genslm\\lib\\site-packages (from transformers@ git+https://github.com/maxzvyagin/transformers->genslm==0.0.4a1) (2.32.3)\n",
      "Requirement already satisfied: tokenizers!=0.11.3,<0.13,>=0.11.1 in c:\\users\\ycho\\anaconda3\\envs\\genslm\\lib\\site-packages (from transformers@ git+https://github.com/maxzvyagin/transformers->genslm==0.0.4a1) (0.12.1)\n",
      "Requirement already satisfied: MarkupSafe>=2.0 in c:\\users\\ycho\\anaconda3\\envs\\genslm\\lib\\site-packages (from Jinja2->genslm==0.0.4a1) (2.1.3)\n",
      "Requirement already satisfied: python-dateutil>=2.8.2 in c:\\users\\ycho\\anaconda3\\envs\\genslm\\lib\\site-packages (from pandas->genslm==0.0.4a1) (2.9.0.post0)\n",
      "Requirement already satisfied: pytz>=2020.1 in c:\\users\\ycho\\anaconda3\\envs\\genslm\\lib\\site-packages (from pandas->genslm==0.0.4a1) (2024.1)\n",
      "Requirement already satisfied: tzdata>=2022.7 in c:\\users\\ycho\\anaconda3\\envs\\genslm\\lib\\site-packages (from pandas->genslm==0.0.4a1) (2024.1)\n",
      "Requirement already satisfied: click!=8.0.0,>=7.1 in c:\\users\\ycho\\anaconda3\\envs\\genslm\\lib\\site-packages (from wandb->genslm==0.0.4a1) (8.1.7)\n",
      "Requirement already satisfied: docker-pycreds>=0.4.0 in c:\\users\\ycho\\anaconda3\\envs\\genslm\\lib\\site-packages (from wandb->genslm==0.0.4a1) (0.4.0)\n",
      "Requirement already satisfied: gitpython!=3.1.29,>=1.0.0 in c:\\users\\ycho\\anaconda3\\envs\\genslm\\lib\\site-packages (from wandb->genslm==0.0.4a1) (3.1.43)\n",
      "Requirement already satisfied: platformdirs in c:\\users\\ycho\\anaconda3\\envs\\genslm\\lib\\site-packages (from wandb->genslm==0.0.4a1) (3.10.0)\n",
      "Requirement already satisfied: psutil>=5.0.0 in c:\\users\\ycho\\anaconda3\\envs\\genslm\\lib\\site-packages (from wandb->genslm==0.0.4a1) (5.9.0)\n",
      "Requirement already satisfied: sentry-sdk>=1.0.0 in c:\\users\\ycho\\anaconda3\\envs\\genslm\\lib\\site-packages (from wandb->genslm==0.0.4a1) (2.13.0)\n",
      "Requirement already satisfied: setproctitle in c:\\users\\ycho\\anaconda3\\envs\\genslm\\lib\\site-packages (from wandb->genslm==0.0.4a1) (1.3.3)\n",
      "Requirement already satisfied: setuptools in c:\\users\\ycho\\anaconda3\\envs\\genslm\\lib\\site-packages (from wandb->genslm==0.0.4a1) (74.0.0)\n",
      "Requirement already satisfied: colorama in c:\\users\\ycho\\anaconda3\\envs\\genslm\\lib\\site-packages (from click!=8.0.0,>=7.1->wandb->genslm==0.0.4a1) (0.4.6)\n",
      "Requirement already satisfied: six>=1.4.0 in c:\\users\\ycho\\anaconda3\\envs\\genslm\\lib\\site-packages (from docker-pycreds>=0.4.0->wandb->genslm==0.0.4a1) (1.16.0)\n",
      "Requirement already satisfied: aiohttp!=4.0.0a0,!=4.0.0a1 in c:\\users\\ycho\\anaconda3\\envs\\genslm\\lib\\site-packages (from fsspec[http]>=2022.5.0->pytorch-lightning==2.4.0->genslm==0.0.4a1) (3.10.5)\n",
      "Requirement already satisfied: gitdb<5,>=4.0.1 in c:\\users\\ycho\\anaconda3\\envs\\genslm\\lib\\site-packages (from gitpython!=3.1.29,>=1.0.0->wandb->genslm==0.0.4a1) (4.0.11)\n",
      "Requirement already satisfied: charset-normalizer<4,>=2 in c:\\users\\ycho\\anaconda3\\envs\\genslm\\lib\\site-packages (from requests->transformers@ git+https://github.com/maxzvyagin/transformers->genslm==0.0.4a1) (3.3.2)\n",
      "Requirement already satisfied: idna<4,>=2.5 in c:\\users\\ycho\\anaconda3\\envs\\genslm\\lib\\site-packages (from requests->transformers@ git+https://github.com/maxzvyagin/transformers->genslm==0.0.4a1) (3.7)\n",
      "Requirement already satisfied: urllib3<3,>=1.21.1 in c:\\users\\ycho\\anaconda3\\envs\\genslm\\lib\\site-packages (from requests->transformers@ git+https://github.com/maxzvyagin/transformers->genslm==0.0.4a1) (2.2.2)\n",
      "Requirement already satisfied: certifi>=2017.4.17 in c:\\users\\ycho\\anaconda3\\envs\\genslm\\lib\\site-packages (from requests->transformers@ git+https://github.com/maxzvyagin/transformers->genslm==0.0.4a1) (2024.7.4)\n",
      "Requirement already satisfied: sympy in c:\\users\\ycho\\anaconda3\\envs\\genslm\\lib\\site-packages (from torch>=1.10.0->lightning-transformers==0.2.1->genslm==0.0.4a1) (1.12)\n",
      "Requirement already satisfied: networkx in c:\\users\\ycho\\anaconda3\\envs\\genslm\\lib\\site-packages (from torch>=1.10.0->lightning-transformers==0.2.1->genslm==0.0.4a1) (3.3)\n",
      "Requirement already satisfied: pyarrow>=15.0.0 in c:\\users\\ycho\\anaconda3\\envs\\genslm\\lib\\site-packages (from datasets->lightning-transformers==0.2.1->genslm==0.0.4a1) (17.0.0)\n",
      "Requirement already satisfied: dill<0.3.9,>=0.3.0 in c:\\users\\ycho\\anaconda3\\envs\\genslm\\lib\\site-packages (from datasets->lightning-transformers==0.2.1->genslm==0.0.4a1) (0.3.8)\n",
      "Requirement already satisfied: xxhash in c:\\users\\ycho\\anaconda3\\envs\\genslm\\lib\\site-packages (from datasets->lightning-transformers==0.2.1->genslm==0.0.4a1) (3.5.0)\n",
      "Requirement already satisfied: multiprocess in c:\\users\\ycho\\anaconda3\\envs\\genslm\\lib\\site-packages (from datasets->lightning-transformers==0.2.1->genslm==0.0.4a1) (0.70.16)\n",
      "Requirement already satisfied: nltk>=3.6 in c:\\users\\ycho\\anaconda3\\envs\\genslm\\lib\\site-packages (from torchmetrics[text]->lightning-transformers==0.2.1->genslm==0.0.4a1) (3.9.1)\n",
      "Requirement already satisfied: mecab-python3>=1.0.6 in c:\\users\\ycho\\anaconda3\\envs\\genslm\\lib\\site-packages (from torchmetrics[text]->lightning-transformers==0.2.1->genslm==0.0.4a1) (1.0.9)\n",
      "Requirement already satisfied: ipadic>=1.0.0 in c:\\users\\ycho\\anaconda3\\envs\\genslm\\lib\\site-packages (from torchmetrics[text]->lightning-transformers==0.2.1->genslm==0.0.4a1) (1.0.0)\n",
      "Requirement already satisfied: aiohappyeyeballs>=2.3.0 in c:\\users\\ycho\\anaconda3\\envs\\genslm\\lib\\site-packages (from aiohttp!=4.0.0a0,!=4.0.0a1->fsspec[http]>=2022.5.0->pytorch-lightning==2.4.0->genslm==0.0.4a1) (2.4.0)\n",
      "Requirement already satisfied: aiosignal>=1.1.2 in c:\\users\\ycho\\anaconda3\\envs\\genslm\\lib\\site-packages (from aiohttp!=4.0.0a0,!=4.0.0a1->fsspec[http]>=2022.5.0->pytorch-lightning==2.4.0->genslm==0.0.4a1) (1.3.1)\n",
      "Requirement already satisfied: attrs>=17.3.0 in c:\\users\\ycho\\anaconda3\\envs\\genslm\\lib\\site-packages (from aiohttp!=4.0.0a0,!=4.0.0a1->fsspec[http]>=2022.5.0->pytorch-lightning==2.4.0->genslm==0.0.4a1) (23.1.0)\n",
      "Requirement already satisfied: frozenlist>=1.1.1 in c:\\users\\ycho\\anaconda3\\envs\\genslm\\lib\\site-packages (from aiohttp!=4.0.0a0,!=4.0.0a1->fsspec[http]>=2022.5.0->pytorch-lightning==2.4.0->genslm==0.0.4a1) (1.4.1)\n",
      "Requirement already satisfied: multidict<7.0,>=4.5 in c:\\users\\ycho\\anaconda3\\envs\\genslm\\lib\\site-packages (from aiohttp!=4.0.0a0,!=4.0.0a1->fsspec[http]>=2022.5.0->pytorch-lightning==2.4.0->genslm==0.0.4a1) (6.0.5)\n",
      "Requirement already satisfied: yarl<2.0,>=1.0 in c:\\users\\ycho\\anaconda3\\envs\\genslm\\lib\\site-packages (from aiohttp!=4.0.0a0,!=4.0.0a1->fsspec[http]>=2022.5.0->pytorch-lightning==2.4.0->genslm==0.0.4a1) (1.9.4)\n",
      "Requirement already satisfied: async-timeout<5.0,>=4.0 in c:\\users\\ycho\\anaconda3\\envs\\genslm\\lib\\site-packages (from aiohttp!=4.0.0a0,!=4.0.0a1->fsspec[http]>=2022.5.0->pytorch-lightning==2.4.0->genslm==0.0.4a1) (4.0.3)\n",
      "Requirement already satisfied: smmap<6,>=3.0.1 in c:\\users\\ycho\\anaconda3\\envs\\genslm\\lib\\site-packages (from gitdb<5,>=4.0.1->gitpython!=3.1.29,>=1.0.0->wandb->genslm==0.0.4a1) (5.0.1)\n",
      "Requirement already satisfied: joblib in c:\\users\\ycho\\anaconda3\\envs\\genslm\\lib\\site-packages (from nltk>=3.6->torchmetrics[text]->lightning-transformers==0.2.1->genslm==0.0.4a1) (1.4.2)\n",
      "Requirement already satisfied: mpmath>=0.19 in c:\\users\\ycho\\anaconda3\\envs\\genslm\\lib\\site-packages (from sympy->torch>=1.10.0->lightning-transformers==0.2.1->genslm==0.0.4a1) (1.3.0)\n"
     ]
    },
    {
     "name": "stderr",
     "output_type": "stream",
     "text": [
      "  Running command git clone --filter=blob:none --quiet https://github.com/k90262/genslm 'C:\\Users\\ycho\\AppData\\Local\\Temp\\pip-req-build-6h9opqat'\n",
      "  Running command git clone --filter=blob:none --quiet https://github.com/maxzvyagin/transformers 'C:\\Users\\ycho\\AppData\\Local\\Temp\\pip-install-whh_vxza\\transformers_537d03a98f184a8cbbd7db6c89de13ab'\n"
     ]
    }
   ],
   "execution_count": 18
  },
  {
   "cell_type": "code",
   "metadata": {
    "id": "2Y9RyjnkdsUY",
    "ExecuteTime": {
     "end_time": "2024-08-30T05:53:06.504226Z",
     "start_time": "2024-08-30T05:53:06.481662Z"
    }
   },
   "source": [
    "# Note 1: (not sure) re-install `pip install numpy==1.26.3` once facing any numpy array issues\n",
    "# Note 2: we can run below command cell one by one via iPython (not must need on JupterServer)\n",
    "import torch\n",
    "import numpy as np\n",
    "import pandas as pd\n",
    "from tqdm import tqdm\n",
    "from sklearn import svm\n",
    "#from google.colab import drive\n",
    "from torch.utils.data import DataLoader\n",
    "from sklearn.model_selection import train_test_split\n",
    "\n",
    "from genslm import GenSLM, SequenceDataset"
   ],
   "outputs": [],
   "execution_count": 19
  },
  {
   "cell_type": "markdown",
   "metadata": {
    "id": "WNXGN5fTV65k"
   },
   "source": [
    "# Aquiring Model and Data\n",
    "\n",
    "Visit: https://drive.google.com/drive/folders/1oYgda4Px-tugapgE2uumiUIf2p3PqIQI?usp=drive_link\n",
    "\n",
    "- Right click `UmichSciFM-2024` Folder and click Organize -> Add Shortcut -> All Locations -> My Drive\n",
    "\n",
    "Executing the cell below mounts your Google Drive to this notebook giving you access to the model checkpoint and data for this notebook"
   ]
  },
  {
   "cell_type": "code",
   "metadata": {
    "colab": {
     "base_uri": "https://localhost:8080/"
    },
    "id": "17wF__wFLl9_",
    "outputId": "737501e1-87a2-4263-d8aa-52aebd420b36",
    "ExecuteTime": {
     "end_time": "2024-08-30T05:53:09.243210Z",
     "start_time": "2024-08-30T05:53:09.195879Z"
    }
   },
   "source": [
    "# Mount and see file structure\n",
    "#drive.mount(\"/content/drive\")\n",
    "\n",
    "!dir D:\\Projects\\UMichSciFM-2024"
   ],
   "outputs": [
    {
     "name": "stdout",
     "output_type": "stream",
     "text": [
      " Volume in drive D is Data\n",
      " Volume Serial Number is 2A5A-AAA0\n",
      "\n",
      " Directory of D:\\Projects\\UMichSciFM-2024\n",
      "\n",
      "08/28/2024  10:04 PM    <DIR>          .\n",
      "08/28/2024  10:04 PM    <DIR>          ..\n",
      "08/28/2024  10:04 PM    <DIR>          data\n",
      "08/28/2024  10:04 PM    <DIR>          model\n",
      "               0 File(s)              0 bytes\n",
      "               4 Dir(s)  246,900,490,240 bytes free\n"
     ]
    }
   ],
   "execution_count": 20
  },
  {
   "cell_type": "code",
   "metadata": {
    "colab": {
     "base_uri": "https://localhost:8080/",
     "height": 424
    },
    "id": "8gGfdw6Ya3SN",
    "outputId": "99e4b0c5-57b9-4f6b-a9c6-1a995df7c01d",
    "ExecuteTime": {
     "end_time": "2024-08-30T05:53:11.906498Z",
     "start_time": "2024-08-30T05:53:11.789954Z"
    }
   },
   "source": [
    "# Load and view the dataset, split into train/test\n",
    "data = pd.read_csv(\"../../UMichSciFM-2024/data/meltingpoint.csv\", index_col=0)\n",
    "data"
   ],
   "outputs": [
    {
     "data": {
      "text/plain": [
       "                                               Sequence  MeltingPoint\n",
       "0     atgattatttccgcagccagcgattatcgcgccgcagcacaacgca...     82.112491\n",
       "1     atggctaagctgaccaagcgcatgcgcgtgatccgtgacaaagttg...     80.338892\n",
       "2     atgtttaaaaataaaatgatgatttgtctttatatgtttctattat...     76.102904\n",
       "3     atgggtcgactggaaggaaaggtagcgatcgtcacgggcggtgcgc...     86.743695\n",
       "4     atgcgtctaaaccccggccaacaacaagctgtcgaattcgttaccg...     81.709235\n",
       "...                                                 ...           ...\n",
       "9411  gtggatatgagtaatacaagtgcagcaccacgtgacacgtgggggt...     78.878742\n",
       "9412  ttggttgagcgccacgacatcgcaaccggtgccaccgggcgtaacc...     82.666703\n",
       "9413  atgttccgttcgcttcttcgcctgtctgcagcgttgctggccttga...     85.151774\n",
       "9414  gtgaaattactagatttattgtcaaaaggaattgtaataggtgatg...     75.071559\n",
       "9415  gtggaaatgtcacaactttcaccacgccgtccgtatctgctgcgcg...     81.473411\n",
       "\n",
       "[9416 rows x 2 columns]"
      ],
      "text/html": [
       "<div>\n",
       "<style scoped>\n",
       "    .dataframe tbody tr th:only-of-type {\n",
       "        vertical-align: middle;\n",
       "    }\n",
       "\n",
       "    .dataframe tbody tr th {\n",
       "        vertical-align: top;\n",
       "    }\n",
       "\n",
       "    .dataframe thead th {\n",
       "        text-align: right;\n",
       "    }\n",
       "</style>\n",
       "<table border=\"1\" class=\"dataframe\">\n",
       "  <thead>\n",
       "    <tr style=\"text-align: right;\">\n",
       "      <th></th>\n",
       "      <th>Sequence</th>\n",
       "      <th>MeltingPoint</th>\n",
       "    </tr>\n",
       "  </thead>\n",
       "  <tbody>\n",
       "    <tr>\n",
       "      <th>0</th>\n",
       "      <td>atgattatttccgcagccagcgattatcgcgccgcagcacaacgca...</td>\n",
       "      <td>82.112491</td>\n",
       "    </tr>\n",
       "    <tr>\n",
       "      <th>1</th>\n",
       "      <td>atggctaagctgaccaagcgcatgcgcgtgatccgtgacaaagttg...</td>\n",
       "      <td>80.338892</td>\n",
       "    </tr>\n",
       "    <tr>\n",
       "      <th>2</th>\n",
       "      <td>atgtttaaaaataaaatgatgatttgtctttatatgtttctattat...</td>\n",
       "      <td>76.102904</td>\n",
       "    </tr>\n",
       "    <tr>\n",
       "      <th>3</th>\n",
       "      <td>atgggtcgactggaaggaaaggtagcgatcgtcacgggcggtgcgc...</td>\n",
       "      <td>86.743695</td>\n",
       "    </tr>\n",
       "    <tr>\n",
       "      <th>4</th>\n",
       "      <td>atgcgtctaaaccccggccaacaacaagctgtcgaattcgttaccg...</td>\n",
       "      <td>81.709235</td>\n",
       "    </tr>\n",
       "    <tr>\n",
       "      <th>...</th>\n",
       "      <td>...</td>\n",
       "      <td>...</td>\n",
       "    </tr>\n",
       "    <tr>\n",
       "      <th>9411</th>\n",
       "      <td>gtggatatgagtaatacaagtgcagcaccacgtgacacgtgggggt...</td>\n",
       "      <td>78.878742</td>\n",
       "    </tr>\n",
       "    <tr>\n",
       "      <th>9412</th>\n",
       "      <td>ttggttgagcgccacgacatcgcaaccggtgccaccgggcgtaacc...</td>\n",
       "      <td>82.666703</td>\n",
       "    </tr>\n",
       "    <tr>\n",
       "      <th>9413</th>\n",
       "      <td>atgttccgttcgcttcttcgcctgtctgcagcgttgctggccttga...</td>\n",
       "      <td>85.151774</td>\n",
       "    </tr>\n",
       "    <tr>\n",
       "      <th>9414</th>\n",
       "      <td>gtgaaattactagatttattgtcaaaaggaattgtaataggtgatg...</td>\n",
       "      <td>75.071559</td>\n",
       "    </tr>\n",
       "    <tr>\n",
       "      <th>9415</th>\n",
       "      <td>gtggaaatgtcacaactttcaccacgccgtccgtatctgctgcgcg...</td>\n",
       "      <td>81.473411</td>\n",
       "    </tr>\n",
       "  </tbody>\n",
       "</table>\n",
       "<p>9416 rows × 2 columns</p>\n",
       "</div>"
      ]
     },
     "execution_count": 21,
     "metadata": {},
     "output_type": "execute_result"
    }
   ],
   "execution_count": 21
  },
  {
   "cell_type": "code",
   "metadata": {
    "id": "qNHyufydcKy4",
    "ExecuteTime": {
     "end_time": "2024-08-30T05:53:14.781345Z",
     "start_time": "2024-08-30T05:53:14.749885Z"
    }
   },
   "source": [
    "# Split dataset for use later\n",
    "\n",
    "# Returns two independent dataframes that we will use for\n",
    "# melting point modelling\n",
    "train, test = train_test_split(data, train_size=1000, test_size=200)"
   ],
   "outputs": [],
   "execution_count": 22
  },
  {
   "metadata": {},
   "cell_type": "markdown",
   "source": [
    "# Begin Modelling\n",
    "\n",
    "Below is an example of generating embeddings with GenSLM-25M, we will follow this generat workflow to generate embeddings for our dataset, and use a downstream model to predict the melting point of an input sequence"
   ]
  },
  {
   "metadata": {
    "ExecuteTime": {
     "end_time": "2024-08-30T05:53:17.428393Z",
     "start_time": "2024-08-30T05:53:17.396756Z"
    }
   },
   "cell_type": "code",
   "source": [
    "# PREREQUISITES for using nvidia gpu: Setup cuda (my case as an example: GPU nvidia 1650 + win 11):\n",
    "# ref. which said we still be able to run pytorch with cuda on this GPU 1650, even if this gpu only support on cuda 7.5: \n",
    "#   https://discuss.pytorch.org/t/is-there-a-table-which-shows-the-supported-cuda-version-for-every-pytorch-version/105846\n",
    "# step 1. install cuda sdk 12\n",
    "#   https://developer.nvidia.com/cuda-downloads?target_os=Windows&target_arch=x86_64&target_version=11&target_type=exe_local\n",
    "# step 2. install pytorch which support cuda sdk 12.4 `conda install pytorch torchvision torchaudio pytorch-cuda=12.4 -c pytorch -c nvidia`\n",
    "#   https://discuss.pytorch.org/t/is-there-a-table-which-shows-the-supported-cuda-version-for-every-pytorch-version/105846/8\n",
    "# step 3. test. Re-start iPyhton, then test `import torch` and `torch.cuda.is_available()`.\n",
    "#  it should return True\n",
    "# done.\n",
    "import torch\n",
    "torch.cuda.is_available()"
   ],
   "outputs": [
    {
     "data": {
      "text/plain": [
       "True"
      ]
     },
     "execution_count": 23,
     "metadata": {},
     "output_type": "execute_result"
    }
   ],
   "execution_count": 23
  },
  {
   "cell_type": "code",
   "metadata": {
    "colab": {
     "base_uri": "https://localhost:8080/"
    },
    "id": "NH_WlPYNXhq2",
    "outputId": "806faacb-c411-4370-919e-530349726327",
    "ExecuteTime": {
     "end_time": "2024-08-30T05:53:29.695863Z",
     "start_time": "2024-08-30T05:53:28.048903Z"
    }
   },
   "source": [
    "# hotfix issue run on windows (See: https://github.com/ultralytics/yolov5/issues/10240)\n",
    "import pathlib\n",
    "temp = pathlib.PosixPath\n",
    "pathlib.PosixPath = pathlib.WindowsPath\n",
    "\n",
    "# Load model\n",
    "model = GenSLM(\"genslm_25M_patric\", model_cache_dir=\"../../UMichSciFM-2024/model\")\n",
    "model.eval()\n",
    "\n",
    "# Select GPU device if it is available, else use CPU\n",
    "device = \"cuda\" if torch.cuda.is_available() else \"cpu\"\n",
    "model.to(device)\n",
    "\n",
    "# Input data is a list of gene sequences\n",
    "sequences = [\n",
    "    \"ATGAAAGTAACCGTTGTTGGAGCAGGTGCAGTTGGTGCAAGTTGCGCAGAATATATTGCA\",\n",
    "    \"ATTAAAGATTTCGCATCTGAAGTTGTTTTGTTAGACATTAAAGAAGGTTATGCCGAAGGT\",\n",
    "]\n",
    "\n",
    "example_dataset = SequenceDataset(sequences, model.seq_length, model.tokenizer)\n",
    "example_dataloader = DataLoader(example_dataset, batch_size =2)\n",
    "\n",
    "# Compute averaged-embeddings for each input sequence\n",
    "embeddings = []\n",
    "with torch.no_grad():\n",
    "    for batch in example_dataloader:\n",
    "        outputs = model(\n",
    "            batch[\"input_ids\"].to(device),\n",
    "            batch[\"attention_mask\"].to(device),\n",
    "            output_hidden_states=True,\n",
    "        )\n",
    "        # outputs.hidden_states shape: (layers, batch_size, sequence_length, hidden_size)\n",
    "        # Use the embeddings of the last layer\n",
    "        emb = outputs.hidden_states[-1].detach().cpu().numpy()\n",
    "        # Compute average over sequence length\n",
    "        emb = np.mean(emb, axis=1)\n",
    "        embeddings.append(emb)\n",
    "\n",
    "# Concatenate embeddings into an array of shape (num_sequences, hidden_size)\n",
    "embeddings = np.concatenate(embeddings)\n",
    "embeddings.shape"
   ],
   "outputs": [
    {
     "name": "stderr",
     "output_type": "stream",
     "text": [
      "D:\\Projects\\genslm\\genslm\\inference.py:96: FutureWarning: You are using `torch.load` with `weights_only=False` (the current default value), which uses the default pickle module implicitly. It is possible to construct malicious pickle data which will execute arbitrary code during unpickling (See https://github.com/pytorch/pytorch/blob/main/SECURITY.md#untrusted-models for more details). In a future release, the default value for `weights_only` will be flipped to `True`. This limits the functions that could be executed during unpickling. Arbitrary objects will no longer be allowed to be loaded via this mode unless they are explicitly allowlisted by the user via `torch.serialization.add_safe_globals`. We recommend you start setting `weights_only=True` for any use case where you don't have full control of the loaded file. Please open an issue on GitHub for any issues related to this experimental feature.\n",
      "  ptl_checkpoint = torch.load(weight_path, map_location=\"cpu\")\n",
      "Tokenizing...: 100%|██████████| 2/2 [00:00<?, ?it/s]\n"
     ]
    },
    {
     "data": {
      "text/plain": [
       "(2, 512)"
      ]
     },
     "execution_count": 24,
     "metadata": {},
     "output_type": "execute_result"
    }
   ],
   "execution_count": 24
  },
  {
   "cell_type": "code",
   "metadata": {
    "colab": {
     "base_uri": "https://localhost:8080/"
    },
    "id": "xG66v3y6YzHj",
    "outputId": "b8064dac-4e75-4c93-8d49-dd38d9fd2474",
    "ExecuteTime": {
     "end_time": "2024-08-30T05:57:34.829604Z",
     "start_time": "2024-08-30T05:53:51.244981Z"
    }
   },
   "source": [
    "# Get embeddings for training dataset\n",
    "train_dataset = SequenceDataset(train.Sequence.values, model.seq_length, model.tokenizer)\n",
    "train_dataloader = DataLoader(train_dataset, batch_size=8)\n",
    "\n",
    "# Compute averaged-embeddings for each input sequence\n",
    "train_embeddings = []\n",
    "with torch.no_grad():\n",
    "    for batch in tqdm(train_dataloader, desc=\"Embedding\"):\n",
    "        outputs = model(\n",
    "            batch[\"input_ids\"].to(device),\n",
    "            batch[\"attention_mask\"].to(device),\n",
    "            output_hidden_states=True,\n",
    "        )\n",
    "        # outputs.hidden_states shape: (layers, batch_size, sequence_length, hidden_size)\n",
    "        # Use the embeddings of the last layer\n",
    "        emb = outputs.hidden_states[-1].detach().cpu().numpy()\n",
    "        # Compute average over sequence length\n",
    "        emb = np.mean(emb, axis=1)\n",
    "        train_embeddings.append(emb)\n",
    "\n",
    "# Concatenate embeddings into an array of shape (num_sequences, hidden_size)\n",
    "train_embeddings = np.concatenate(train_embeddings)\n",
    "train_embeddings.shape"
   ],
   "outputs": [
    {
     "name": "stderr",
     "output_type": "stream",
     "text": [
      "Tokenizing...: 100%|██████████| 1000/1000 [00:01<00:00, 546.66it/s]\n",
      "Embedding: 100%|██████████| 125/125 [03:41<00:00,  1.77s/it]\n"
     ]
    },
    {
     "data": {
      "text/plain": [
       "(1000, 512)"
      ]
     },
     "execution_count": 25,
     "metadata": {},
     "output_type": "execute_result"
    }
   ],
   "execution_count": 25
  },
  {
   "cell_type": "code",
   "metadata": {
    "colab": {
     "base_uri": "https://localhost:8080/",
     "height": 75
    },
    "id": "T99uwyOOcxXF",
    "outputId": "1963aa18-5706-4867-bf3d-4a462592052a",
    "ExecuteTime": {
     "end_time": "2024-08-30T05:57:54.264075Z",
     "start_time": "2024-08-30T05:57:53.998602Z"
    }
   },
   "source": [
    "# Train SVM on embeddings for melting point\n",
    "mp_regr = svm.SVR()\n",
    "mp_regr.fit(train_embeddings, train.MeltingPoint.values)\n"
   ],
   "outputs": [
    {
     "data": {
      "text/plain": [
       "SVR()"
      ],
      "text/html": [
       "<style>#sk-container-id-2 {\n",
       "  /* Definition of color scheme common for light and dark mode */\n",
       "  --sklearn-color-text: black;\n",
       "  --sklearn-color-line: gray;\n",
       "  /* Definition of color scheme for unfitted estimators */\n",
       "  --sklearn-color-unfitted-level-0: #fff5e6;\n",
       "  --sklearn-color-unfitted-level-1: #f6e4d2;\n",
       "  --sklearn-color-unfitted-level-2: #ffe0b3;\n",
       "  --sklearn-color-unfitted-level-3: chocolate;\n",
       "  /* Definition of color scheme for fitted estimators */\n",
       "  --sklearn-color-fitted-level-0: #f0f8ff;\n",
       "  --sklearn-color-fitted-level-1: #d4ebff;\n",
       "  --sklearn-color-fitted-level-2: #b3dbfd;\n",
       "  --sklearn-color-fitted-level-3: cornflowerblue;\n",
       "\n",
       "  /* Specific color for light theme */\n",
       "  --sklearn-color-text-on-default-background: var(--sg-text-color, var(--theme-code-foreground, var(--jp-content-font-color1, black)));\n",
       "  --sklearn-color-background: var(--sg-background-color, var(--theme-background, var(--jp-layout-color0, white)));\n",
       "  --sklearn-color-border-box: var(--sg-text-color, var(--theme-code-foreground, var(--jp-content-font-color1, black)));\n",
       "  --sklearn-color-icon: #696969;\n",
       "\n",
       "  @media (prefers-color-scheme: dark) {\n",
       "    /* Redefinition of color scheme for dark theme */\n",
       "    --sklearn-color-text-on-default-background: var(--sg-text-color, var(--theme-code-foreground, var(--jp-content-font-color1, white)));\n",
       "    --sklearn-color-background: var(--sg-background-color, var(--theme-background, var(--jp-layout-color0, #111)));\n",
       "    --sklearn-color-border-box: var(--sg-text-color, var(--theme-code-foreground, var(--jp-content-font-color1, white)));\n",
       "    --sklearn-color-icon: #878787;\n",
       "  }\n",
       "}\n",
       "\n",
       "#sk-container-id-2 {\n",
       "  color: var(--sklearn-color-text);\n",
       "}\n",
       "\n",
       "#sk-container-id-2 pre {\n",
       "  padding: 0;\n",
       "}\n",
       "\n",
       "#sk-container-id-2 input.sk-hidden--visually {\n",
       "  border: 0;\n",
       "  clip: rect(1px 1px 1px 1px);\n",
       "  clip: rect(1px, 1px, 1px, 1px);\n",
       "  height: 1px;\n",
       "  margin: -1px;\n",
       "  overflow: hidden;\n",
       "  padding: 0;\n",
       "  position: absolute;\n",
       "  width: 1px;\n",
       "}\n",
       "\n",
       "#sk-container-id-2 div.sk-dashed-wrapped {\n",
       "  border: 1px dashed var(--sklearn-color-line);\n",
       "  margin: 0 0.4em 0.5em 0.4em;\n",
       "  box-sizing: border-box;\n",
       "  padding-bottom: 0.4em;\n",
       "  background-color: var(--sklearn-color-background);\n",
       "}\n",
       "\n",
       "#sk-container-id-2 div.sk-container {\n",
       "  /* jupyter's `normalize.less` sets `[hidden] { display: none; }`\n",
       "     but bootstrap.min.css set `[hidden] { display: none !important; }`\n",
       "     so we also need the `!important` here to be able to override the\n",
       "     default hidden behavior on the sphinx rendered scikit-learn.org.\n",
       "     See: https://github.com/scikit-learn/scikit-learn/issues/21755 */\n",
       "  display: inline-block !important;\n",
       "  position: relative;\n",
       "}\n",
       "\n",
       "#sk-container-id-2 div.sk-text-repr-fallback {\n",
       "  display: none;\n",
       "}\n",
       "\n",
       "div.sk-parallel-item,\n",
       "div.sk-serial,\n",
       "div.sk-item {\n",
       "  /* draw centered vertical line to link estimators */\n",
       "  background-image: linear-gradient(var(--sklearn-color-text-on-default-background), var(--sklearn-color-text-on-default-background));\n",
       "  background-size: 2px 100%;\n",
       "  background-repeat: no-repeat;\n",
       "  background-position: center center;\n",
       "}\n",
       "\n",
       "/* Parallel-specific style estimator block */\n",
       "\n",
       "#sk-container-id-2 div.sk-parallel-item::after {\n",
       "  content: \"\";\n",
       "  width: 100%;\n",
       "  border-bottom: 2px solid var(--sklearn-color-text-on-default-background);\n",
       "  flex-grow: 1;\n",
       "}\n",
       "\n",
       "#sk-container-id-2 div.sk-parallel {\n",
       "  display: flex;\n",
       "  align-items: stretch;\n",
       "  justify-content: center;\n",
       "  background-color: var(--sklearn-color-background);\n",
       "  position: relative;\n",
       "}\n",
       "\n",
       "#sk-container-id-2 div.sk-parallel-item {\n",
       "  display: flex;\n",
       "  flex-direction: column;\n",
       "}\n",
       "\n",
       "#sk-container-id-2 div.sk-parallel-item:first-child::after {\n",
       "  align-self: flex-end;\n",
       "  width: 50%;\n",
       "}\n",
       "\n",
       "#sk-container-id-2 div.sk-parallel-item:last-child::after {\n",
       "  align-self: flex-start;\n",
       "  width: 50%;\n",
       "}\n",
       "\n",
       "#sk-container-id-2 div.sk-parallel-item:only-child::after {\n",
       "  width: 0;\n",
       "}\n",
       "\n",
       "/* Serial-specific style estimator block */\n",
       "\n",
       "#sk-container-id-2 div.sk-serial {\n",
       "  display: flex;\n",
       "  flex-direction: column;\n",
       "  align-items: center;\n",
       "  background-color: var(--sklearn-color-background);\n",
       "  padding-right: 1em;\n",
       "  padding-left: 1em;\n",
       "}\n",
       "\n",
       "\n",
       "/* Toggleable style: style used for estimator/Pipeline/ColumnTransformer box that is\n",
       "clickable and can be expanded/collapsed.\n",
       "- Pipeline and ColumnTransformer use this feature and define the default style\n",
       "- Estimators will overwrite some part of the style using the `sk-estimator` class\n",
       "*/\n",
       "\n",
       "/* Pipeline and ColumnTransformer style (default) */\n",
       "\n",
       "#sk-container-id-2 div.sk-toggleable {\n",
       "  /* Default theme specific background. It is overwritten whether we have a\n",
       "  specific estimator or a Pipeline/ColumnTransformer */\n",
       "  background-color: var(--sklearn-color-background);\n",
       "}\n",
       "\n",
       "/* Toggleable label */\n",
       "#sk-container-id-2 label.sk-toggleable__label {\n",
       "  cursor: pointer;\n",
       "  display: block;\n",
       "  width: 100%;\n",
       "  margin-bottom: 0;\n",
       "  padding: 0.5em;\n",
       "  box-sizing: border-box;\n",
       "  text-align: center;\n",
       "}\n",
       "\n",
       "#sk-container-id-2 label.sk-toggleable__label-arrow:before {\n",
       "  /* Arrow on the left of the label */\n",
       "  content: \"▸\";\n",
       "  float: left;\n",
       "  margin-right: 0.25em;\n",
       "  color: var(--sklearn-color-icon);\n",
       "}\n",
       "\n",
       "#sk-container-id-2 label.sk-toggleable__label-arrow:hover:before {\n",
       "  color: var(--sklearn-color-text);\n",
       "}\n",
       "\n",
       "/* Toggleable content - dropdown */\n",
       "\n",
       "#sk-container-id-2 div.sk-toggleable__content {\n",
       "  max-height: 0;\n",
       "  max-width: 0;\n",
       "  overflow: hidden;\n",
       "  text-align: left;\n",
       "  /* unfitted */\n",
       "  background-color: var(--sklearn-color-unfitted-level-0);\n",
       "}\n",
       "\n",
       "#sk-container-id-2 div.sk-toggleable__content.fitted {\n",
       "  /* fitted */\n",
       "  background-color: var(--sklearn-color-fitted-level-0);\n",
       "}\n",
       "\n",
       "#sk-container-id-2 div.sk-toggleable__content pre {\n",
       "  margin: 0.2em;\n",
       "  border-radius: 0.25em;\n",
       "  color: var(--sklearn-color-text);\n",
       "  /* unfitted */\n",
       "  background-color: var(--sklearn-color-unfitted-level-0);\n",
       "}\n",
       "\n",
       "#sk-container-id-2 div.sk-toggleable__content.fitted pre {\n",
       "  /* unfitted */\n",
       "  background-color: var(--sklearn-color-fitted-level-0);\n",
       "}\n",
       "\n",
       "#sk-container-id-2 input.sk-toggleable__control:checked~div.sk-toggleable__content {\n",
       "  /* Expand drop-down */\n",
       "  max-height: 200px;\n",
       "  max-width: 100%;\n",
       "  overflow: auto;\n",
       "}\n",
       "\n",
       "#sk-container-id-2 input.sk-toggleable__control:checked~label.sk-toggleable__label-arrow:before {\n",
       "  content: \"▾\";\n",
       "}\n",
       "\n",
       "/* Pipeline/ColumnTransformer-specific style */\n",
       "\n",
       "#sk-container-id-2 div.sk-label input.sk-toggleable__control:checked~label.sk-toggleable__label {\n",
       "  color: var(--sklearn-color-text);\n",
       "  background-color: var(--sklearn-color-unfitted-level-2);\n",
       "}\n",
       "\n",
       "#sk-container-id-2 div.sk-label.fitted input.sk-toggleable__control:checked~label.sk-toggleable__label {\n",
       "  background-color: var(--sklearn-color-fitted-level-2);\n",
       "}\n",
       "\n",
       "/* Estimator-specific style */\n",
       "\n",
       "/* Colorize estimator box */\n",
       "#sk-container-id-2 div.sk-estimator input.sk-toggleable__control:checked~label.sk-toggleable__label {\n",
       "  /* unfitted */\n",
       "  background-color: var(--sklearn-color-unfitted-level-2);\n",
       "}\n",
       "\n",
       "#sk-container-id-2 div.sk-estimator.fitted input.sk-toggleable__control:checked~label.sk-toggleable__label {\n",
       "  /* fitted */\n",
       "  background-color: var(--sklearn-color-fitted-level-2);\n",
       "}\n",
       "\n",
       "#sk-container-id-2 div.sk-label label.sk-toggleable__label,\n",
       "#sk-container-id-2 div.sk-label label {\n",
       "  /* The background is the default theme color */\n",
       "  color: var(--sklearn-color-text-on-default-background);\n",
       "}\n",
       "\n",
       "/* On hover, darken the color of the background */\n",
       "#sk-container-id-2 div.sk-label:hover label.sk-toggleable__label {\n",
       "  color: var(--sklearn-color-text);\n",
       "  background-color: var(--sklearn-color-unfitted-level-2);\n",
       "}\n",
       "\n",
       "/* Label box, darken color on hover, fitted */\n",
       "#sk-container-id-2 div.sk-label.fitted:hover label.sk-toggleable__label.fitted {\n",
       "  color: var(--sklearn-color-text);\n",
       "  background-color: var(--sklearn-color-fitted-level-2);\n",
       "}\n",
       "\n",
       "/* Estimator label */\n",
       "\n",
       "#sk-container-id-2 div.sk-label label {\n",
       "  font-family: monospace;\n",
       "  font-weight: bold;\n",
       "  display: inline-block;\n",
       "  line-height: 1.2em;\n",
       "}\n",
       "\n",
       "#sk-container-id-2 div.sk-label-container {\n",
       "  text-align: center;\n",
       "}\n",
       "\n",
       "/* Estimator-specific */\n",
       "#sk-container-id-2 div.sk-estimator {\n",
       "  font-family: monospace;\n",
       "  border: 1px dotted var(--sklearn-color-border-box);\n",
       "  border-radius: 0.25em;\n",
       "  box-sizing: border-box;\n",
       "  margin-bottom: 0.5em;\n",
       "  /* unfitted */\n",
       "  background-color: var(--sklearn-color-unfitted-level-0);\n",
       "}\n",
       "\n",
       "#sk-container-id-2 div.sk-estimator.fitted {\n",
       "  /* fitted */\n",
       "  background-color: var(--sklearn-color-fitted-level-0);\n",
       "}\n",
       "\n",
       "/* on hover */\n",
       "#sk-container-id-2 div.sk-estimator:hover {\n",
       "  /* unfitted */\n",
       "  background-color: var(--sklearn-color-unfitted-level-2);\n",
       "}\n",
       "\n",
       "#sk-container-id-2 div.sk-estimator.fitted:hover {\n",
       "  /* fitted */\n",
       "  background-color: var(--sklearn-color-fitted-level-2);\n",
       "}\n",
       "\n",
       "/* Specification for estimator info (e.g. \"i\" and \"?\") */\n",
       "\n",
       "/* Common style for \"i\" and \"?\" */\n",
       "\n",
       ".sk-estimator-doc-link,\n",
       "a:link.sk-estimator-doc-link,\n",
       "a:visited.sk-estimator-doc-link {\n",
       "  float: right;\n",
       "  font-size: smaller;\n",
       "  line-height: 1em;\n",
       "  font-family: monospace;\n",
       "  background-color: var(--sklearn-color-background);\n",
       "  border-radius: 1em;\n",
       "  height: 1em;\n",
       "  width: 1em;\n",
       "  text-decoration: none !important;\n",
       "  margin-left: 1ex;\n",
       "  /* unfitted */\n",
       "  border: var(--sklearn-color-unfitted-level-1) 1pt solid;\n",
       "  color: var(--sklearn-color-unfitted-level-1);\n",
       "}\n",
       "\n",
       ".sk-estimator-doc-link.fitted,\n",
       "a:link.sk-estimator-doc-link.fitted,\n",
       "a:visited.sk-estimator-doc-link.fitted {\n",
       "  /* fitted */\n",
       "  border: var(--sklearn-color-fitted-level-1) 1pt solid;\n",
       "  color: var(--sklearn-color-fitted-level-1);\n",
       "}\n",
       "\n",
       "/* On hover */\n",
       "div.sk-estimator:hover .sk-estimator-doc-link:hover,\n",
       ".sk-estimator-doc-link:hover,\n",
       "div.sk-label-container:hover .sk-estimator-doc-link:hover,\n",
       ".sk-estimator-doc-link:hover {\n",
       "  /* unfitted */\n",
       "  background-color: var(--sklearn-color-unfitted-level-3);\n",
       "  color: var(--sklearn-color-background);\n",
       "  text-decoration: none;\n",
       "}\n",
       "\n",
       "div.sk-estimator.fitted:hover .sk-estimator-doc-link.fitted:hover,\n",
       ".sk-estimator-doc-link.fitted:hover,\n",
       "div.sk-label-container:hover .sk-estimator-doc-link.fitted:hover,\n",
       ".sk-estimator-doc-link.fitted:hover {\n",
       "  /* fitted */\n",
       "  background-color: var(--sklearn-color-fitted-level-3);\n",
       "  color: var(--sklearn-color-background);\n",
       "  text-decoration: none;\n",
       "}\n",
       "\n",
       "/* Span, style for the box shown on hovering the info icon */\n",
       ".sk-estimator-doc-link span {\n",
       "  display: none;\n",
       "  z-index: 9999;\n",
       "  position: relative;\n",
       "  font-weight: normal;\n",
       "  right: .2ex;\n",
       "  padding: .5ex;\n",
       "  margin: .5ex;\n",
       "  width: min-content;\n",
       "  min-width: 20ex;\n",
       "  max-width: 50ex;\n",
       "  color: var(--sklearn-color-text);\n",
       "  box-shadow: 2pt 2pt 4pt #999;\n",
       "  /* unfitted */\n",
       "  background: var(--sklearn-color-unfitted-level-0);\n",
       "  border: .5pt solid var(--sklearn-color-unfitted-level-3);\n",
       "}\n",
       "\n",
       ".sk-estimator-doc-link.fitted span {\n",
       "  /* fitted */\n",
       "  background: var(--sklearn-color-fitted-level-0);\n",
       "  border: var(--sklearn-color-fitted-level-3);\n",
       "}\n",
       "\n",
       ".sk-estimator-doc-link:hover span {\n",
       "  display: block;\n",
       "}\n",
       "\n",
       "/* \"?\"-specific style due to the `<a>` HTML tag */\n",
       "\n",
       "#sk-container-id-2 a.estimator_doc_link {\n",
       "  float: right;\n",
       "  font-size: 1rem;\n",
       "  line-height: 1em;\n",
       "  font-family: monospace;\n",
       "  background-color: var(--sklearn-color-background);\n",
       "  border-radius: 1rem;\n",
       "  height: 1rem;\n",
       "  width: 1rem;\n",
       "  text-decoration: none;\n",
       "  /* unfitted */\n",
       "  color: var(--sklearn-color-unfitted-level-1);\n",
       "  border: var(--sklearn-color-unfitted-level-1) 1pt solid;\n",
       "}\n",
       "\n",
       "#sk-container-id-2 a.estimator_doc_link.fitted {\n",
       "  /* fitted */\n",
       "  border: var(--sklearn-color-fitted-level-1) 1pt solid;\n",
       "  color: var(--sklearn-color-fitted-level-1);\n",
       "}\n",
       "\n",
       "/* On hover */\n",
       "#sk-container-id-2 a.estimator_doc_link:hover {\n",
       "  /* unfitted */\n",
       "  background-color: var(--sklearn-color-unfitted-level-3);\n",
       "  color: var(--sklearn-color-background);\n",
       "  text-decoration: none;\n",
       "}\n",
       "\n",
       "#sk-container-id-2 a.estimator_doc_link.fitted:hover {\n",
       "  /* fitted */\n",
       "  background-color: var(--sklearn-color-fitted-level-3);\n",
       "}\n",
       "</style><div id=\"sk-container-id-2\" class=\"sk-top-container\"><div class=\"sk-text-repr-fallback\"><pre>SVR()</pre><b>In a Jupyter environment, please rerun this cell to show the HTML representation or trust the notebook. <br />On GitHub, the HTML representation is unable to render, please try loading this page with nbviewer.org.</b></div><div class=\"sk-container\" hidden><div class=\"sk-item\"><div class=\"sk-estimator fitted sk-toggleable\"><input class=\"sk-toggleable__control sk-hidden--visually\" id=\"sk-estimator-id-2\" type=\"checkbox\" checked><label for=\"sk-estimator-id-2\" class=\"sk-toggleable__label fitted sk-toggleable__label-arrow fitted\">&nbsp;&nbsp;SVR<a class=\"sk-estimator-doc-link fitted\" rel=\"noreferrer\" target=\"_blank\" href=\"https://scikit-learn.org/1.5/modules/generated/sklearn.svm.SVR.html\">?<span>Documentation for SVR</span></a><span class=\"sk-estimator-doc-link fitted\">i<span>Fitted</span></span></label><div class=\"sk-toggleable__content fitted\"><pre>SVR()</pre></div> </div></div></div></div>"
      ]
     },
     "execution_count": 26,
     "metadata": {},
     "output_type": "execute_result"
    }
   ],
   "execution_count": 26
  },
  {
   "cell_type": "markdown",
   "metadata": {
    "id": "oB-6ezWfha_6"
   },
   "source": [
    "# Evaluation"
   ]
  },
  {
   "cell_type": "code",
   "metadata": {
    "colab": {
     "base_uri": "https://localhost:8080/"
    },
    "id": "nRGswn1OhNMj",
    "outputId": "b4b5c149-3052-4b32-a326-855571bacaac",
    "ExecuteTime": {
     "end_time": "2024-08-30T05:58:52.435314Z",
     "start_time": "2024-08-30T05:58:07.706840Z"
    }
   },
   "source": [
    "# Get embeddings for evaluation dataset\n",
    "test_dataset = SequenceDataset(test.Sequence.values, model.seq_length, model.tokenizer)\n",
    "test_dataloader = DataLoader(test_dataset, batch_size=8)\n",
    "\n",
    "# Compute averaged-embeddings for each input sequence\n",
    "test_embeddings = []\n",
    "with torch.no_grad():\n",
    "    for batch in tqdm(test_dataloader, desc=\"Embedding\"):\n",
    "        outputs = model(\n",
    "            batch[\"input_ids\"].to(device),\n",
    "            batch[\"attention_mask\"].to(device),\n",
    "            output_hidden_states=True,\n",
    "        )\n",
    "        # outputs.hidden_states shape: (layers, batch_size, sequence_length, hidden_size)\n",
    "        # Use the embeddings of the last layer\n",
    "        emb = outputs.hidden_states[-1].detach().cpu().numpy()\n",
    "        # Compute average over sequence length\n",
    "        emb = np.mean(emb, axis=1)\n",
    "        test_embeddings.append(emb)\n",
    "\n",
    "# Concatenate embeddings into an array of shape (num_sequences, hidden_size)\n",
    "test_embeddings = np.concatenate(test_embeddings)\n",
    "test_embeddings.shape"
   ],
   "outputs": [
    {
     "name": "stderr",
     "output_type": "stream",
     "text": [
      "Tokenizing...: 100%|██████████| 200/200 [00:00<00:00, 576.25it/s]\n",
      "Embedding: 100%|██████████| 25/25 [00:44<00:00,  1.77s/it]\n"
     ]
    },
    {
     "data": {
      "text/plain": [
       "(200, 512)"
      ]
     },
     "execution_count": 27,
     "metadata": {},
     "output_type": "execute_result"
    }
   ],
   "execution_count": 27
  },
  {
   "cell_type": "code",
   "metadata": {
    "colab": {
     "base_uri": "https://localhost:8080/"
    },
    "id": "kPCYHM5dhi7N",
    "outputId": "325b8f74-b223-4264-d271-064b2bb6adc8",
    "ExecuteTime": {
     "end_time": "2024-08-30T05:59:09.446345Z",
     "start_time": "2024-08-30T05:59:09.351289Z"
    }
   },
   "source": [
    "# Evaluate the performance of the regressor on a held out test set\n",
    "\n",
    "r2 = mp_regr.score(test_embeddings, test.MeltingPoint.values)\n",
    "\n",
    "print(f\"Regressor R^2 {r2} for test set\")\n",
    "\n",
    "# Test a few examples and see predictions\n",
    "example_predictions = mp_regr.predict(test_embeddings[:10])\n",
    "\n",
    "for (idx, row), pred_val in zip(test.iterrows(), example_predictions):\n",
    "  print(f\"Empirical melting point: {row['MeltingPoint']:.3f}\\t\\tPredicted melting point: {pred_val:.3f}\")"
   ],
   "outputs": [
    {
     "name": "stdout",
     "output_type": "stream",
     "text": [
      "Regressor R^2 0.9190283094220035 for test set\n",
      "Empirical melting point: 87.883\t\tPredicted melting point: 87.494\n",
      "Empirical melting point: 82.044\t\tPredicted melting point: 84.214\n",
      "Empirical melting point: 88.899\t\tPredicted melting point: 83.655\n",
      "Empirical melting point: 76.998\t\tPredicted melting point: 78.426\n",
      "Empirical melting point: 81.560\t\tPredicted melting point: 81.449\n",
      "Empirical melting point: 84.423\t\tPredicted melting point: 85.205\n",
      "Empirical melting point: 78.230\t\tPredicted melting point: 79.274\n",
      "Empirical melting point: 82.807\t\tPredicted melting point: 81.839\n",
      "Empirical melting point: 74.552\t\tPredicted melting point: 74.406\n",
      "Empirical melting point: 87.665\t\tPredicted melting point: 86.023\n"
     ]
    }
   ],
   "execution_count": 28
  }
 ],
 "metadata": {
  "accelerator": "GPU",
  "colab": {
   "gpuType": "T4",
   "provenance": []
  },
  "kernelspec": {
   "display_name": "Python 3 (ipykernel)",
   "name": "python3",
   "language": "python"
  },
  "language_info": {
   "name": "python"
  }
 },
 "nbformat": 4,
 "nbformat_minor": 0
}
